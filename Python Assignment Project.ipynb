{
 "cells": [
  {
   "cell_type": "code",
   "execution_count": 1,
   "metadata": {},
   "outputs": [],
   "source": [
    "#AS the csv file does not run in my computer and show utf-8 error(talked this issue also with student suppoort)\n",
    "#so i write code as per my understanding and i am not able to run it \n",
    "#so i request you to kindly check the code "
   ]
  },
  {
   "cell_type": "code",
   "execution_count": 2,
   "metadata": {
    "id": "BHnim5IzV6jX"
   },
   "outputs": [],
   "source": [
    "# Filtering out the warnings\n",
    "\n",
    "import warnings\n",
    "\n",
    "warnings.filterwarnings('ignore')"
   ]
  },
  {
   "cell_type": "code",
   "execution_count": 3,
   "metadata": {
    "id": "sv1L-Np6V6jg"
   },
   "outputs": [],
   "source": [
    "# Importing the required libraries\n",
    "\n",
    "import numpy as np\n",
    "import pandas as pd\n",
    "import seaborn as sns\n",
    "import matplotlib.pyplot as plt\n"
   ]
  },
  {
   "cell_type": "markdown",
   "metadata": {
    "id": "LMgGM09eV6jh"
   },
   "source": [
    "# <font color = blue> IMDb Movie Assignment </font>\n",
    "\n",
    "You have the data for the 100 top-rated movies from the past decade along with various pieces of information about the movie, its actors, and the voters who have rated these movies online.�In this assignment, you will try to find some interesting insights into these movies and their voters, using Python."
   ]
  },
  {
   "cell_type": "markdown",
   "metadata": {
    "id": "wI43Rk3CV6jk"
   },
   "source": [
    "##  Task 1: Reading the data"
   ]
  },
  {
   "cell_type": "markdown",
   "metadata": {
    "id": "1lSnxWqAV6jl"
   },
   "source": [
    "- ### Subtask 1.1: Read the Movies Data.\n",
    "\n",
    "Read the movies data file provided and store it in a dataframe `movies`."
   ]
  },
  {
   "cell_type": "code",
   "execution_count": 4,
   "metadata": {
    "id": "OR3P4ZOtV6jm"
   },
   "outputs": [
    {
     "data": {
      "text/html": [
       "<div>\n",
       "<style scoped>\n",
       "    .dataframe tbody tr th:only-of-type {\n",
       "        vertical-align: middle;\n",
       "    }\n",
       "\n",
       "    .dataframe tbody tr th {\n",
       "        vertical-align: top;\n",
       "    }\n",
       "\n",
       "    .dataframe thead th {\n",
       "        text-align: right;\n",
       "    }\n",
       "</style>\n",
       "<table border=\"1\" class=\"dataframe\">\n",
       "  <thead>\n",
       "    <tr style=\"text-align: right;\">\n",
       "      <th></th>\n",
       "      <th>Title</th>\n",
       "      <th>title_year</th>\n",
       "      <th>budget</th>\n",
       "      <th>Gross</th>\n",
       "      <th>actor_1_name</th>\n",
       "      <th>actor_2_name</th>\n",
       "      <th>actor_3_name</th>\n",
       "      <th>actor_1_facebook_likes</th>\n",
       "      <th>actor_2_facebook_likes</th>\n",
       "      <th>actor_3_facebook_likes</th>\n",
       "      <th>...</th>\n",
       "      <th>Votes3044M</th>\n",
       "      <th>Votes3044F</th>\n",
       "      <th>Votes45A</th>\n",
       "      <th>Votes45AM</th>\n",
       "      <th>Votes45AF</th>\n",
       "      <th>Votes1000</th>\n",
       "      <th>VotesUS</th>\n",
       "      <th>VotesnUS</th>\n",
       "      <th>content_rating</th>\n",
       "      <th>Country</th>\n",
       "    </tr>\n",
       "  </thead>\n",
       "  <tbody>\n",
       "    <tr>\n",
       "      <th>0</th>\n",
       "      <td>La La Land</td>\n",
       "      <td>2016</td>\n",
       "      <td>30000000</td>\n",
       "      <td>151101803</td>\n",
       "      <td>Ryan Gosling</td>\n",
       "      <td>Emma Stone</td>\n",
       "      <td>Amiée Conn</td>\n",
       "      <td>14000</td>\n",
       "      <td>19000.0</td>\n",
       "      <td>NaN</td>\n",
       "      <td>...</td>\n",
       "      <td>7.9</td>\n",
       "      <td>7.8</td>\n",
       "      <td>7.6</td>\n",
       "      <td>7.6</td>\n",
       "      <td>7.5</td>\n",
       "      <td>7.1</td>\n",
       "      <td>8.3</td>\n",
       "      <td>8.1</td>\n",
       "      <td>PG-13</td>\n",
       "      <td>USA</td>\n",
       "    </tr>\n",
       "    <tr>\n",
       "      <th>1</th>\n",
       "      <td>Zootopia</td>\n",
       "      <td>2016</td>\n",
       "      <td>150000000</td>\n",
       "      <td>341268248</td>\n",
       "      <td>Ginnifer Goodwin</td>\n",
       "      <td>Jason Bateman</td>\n",
       "      <td>Idris Elba</td>\n",
       "      <td>2800</td>\n",
       "      <td>28000.0</td>\n",
       "      <td>27000.0</td>\n",
       "      <td>...</td>\n",
       "      <td>7.8</td>\n",
       "      <td>8.1</td>\n",
       "      <td>7.8</td>\n",
       "      <td>7.8</td>\n",
       "      <td>8.1</td>\n",
       "      <td>7.6</td>\n",
       "      <td>8.0</td>\n",
       "      <td>8.0</td>\n",
       "      <td>PG</td>\n",
       "      <td>USA</td>\n",
       "    </tr>\n",
       "    <tr>\n",
       "      <th>2</th>\n",
       "      <td>Lion</td>\n",
       "      <td>2016</td>\n",
       "      <td>12000000</td>\n",
       "      <td>51738905</td>\n",
       "      <td>Dev Patel</td>\n",
       "      <td>Nicole Kidman</td>\n",
       "      <td>Rooney Mara</td>\n",
       "      <td>33000</td>\n",
       "      <td>96000.0</td>\n",
       "      <td>9800.0</td>\n",
       "      <td>...</td>\n",
       "      <td>7.9</td>\n",
       "      <td>8.2</td>\n",
       "      <td>8.0</td>\n",
       "      <td>7.9</td>\n",
       "      <td>8.4</td>\n",
       "      <td>7.1</td>\n",
       "      <td>8.1</td>\n",
       "      <td>8.0</td>\n",
       "      <td>PG-13</td>\n",
       "      <td>Australia</td>\n",
       "    </tr>\n",
       "    <tr>\n",
       "      <th>3</th>\n",
       "      <td>Arrival</td>\n",
       "      <td>2016</td>\n",
       "      <td>47000000</td>\n",
       "      <td>100546139</td>\n",
       "      <td>Amy Adams</td>\n",
       "      <td>Jeremy Renner</td>\n",
       "      <td>Forest Whitaker</td>\n",
       "      <td>35000</td>\n",
       "      <td>5300.0</td>\n",
       "      <td>NaN</td>\n",
       "      <td>...</td>\n",
       "      <td>7.8</td>\n",
       "      <td>7.8</td>\n",
       "      <td>7.6</td>\n",
       "      <td>7.6</td>\n",
       "      <td>7.7</td>\n",
       "      <td>7.3</td>\n",
       "      <td>8.0</td>\n",
       "      <td>7.9</td>\n",
       "      <td>PG-13</td>\n",
       "      <td>USA</td>\n",
       "    </tr>\n",
       "    <tr>\n",
       "      <th>4</th>\n",
       "      <td>Manchester by the Sea</td>\n",
       "      <td>2016</td>\n",
       "      <td>9000000</td>\n",
       "      <td>47695371</td>\n",
       "      <td>Casey Affleck</td>\n",
       "      <td>Michelle Williams</td>\n",
       "      <td>Kyle Chandler</td>\n",
       "      <td>518</td>\n",
       "      <td>71000.0</td>\n",
       "      <td>3300.0</td>\n",
       "      <td>...</td>\n",
       "      <td>7.7</td>\n",
       "      <td>7.7</td>\n",
       "      <td>7.6</td>\n",
       "      <td>7.6</td>\n",
       "      <td>7.6</td>\n",
       "      <td>7.1</td>\n",
       "      <td>7.9</td>\n",
       "      <td>7.8</td>\n",
       "      <td>R</td>\n",
       "      <td>USA</td>\n",
       "    </tr>\n",
       "    <tr>\n",
       "      <th>...</th>\n",
       "      <td>...</td>\n",
       "      <td>...</td>\n",
       "      <td>...</td>\n",
       "      <td>...</td>\n",
       "      <td>...</td>\n",
       "      <td>...</td>\n",
       "      <td>...</td>\n",
       "      <td>...</td>\n",
       "      <td>...</td>\n",
       "      <td>...</td>\n",
       "      <td>...</td>\n",
       "      <td>...</td>\n",
       "      <td>...</td>\n",
       "      <td>...</td>\n",
       "      <td>...</td>\n",
       "      <td>...</td>\n",
       "      <td>...</td>\n",
       "      <td>...</td>\n",
       "      <td>...</td>\n",
       "      <td>...</td>\n",
       "      <td>...</td>\n",
       "    </tr>\n",
       "    <tr>\n",
       "      <th>95</th>\n",
       "      <td>Whiplash</td>\n",
       "      <td>2014</td>\n",
       "      <td>3300000</td>\n",
       "      <td>13092000</td>\n",
       "      <td>J.K. Simmons</td>\n",
       "      <td>Melissa Benoist</td>\n",
       "      <td>Chris Mulkey</td>\n",
       "      <td>24000</td>\n",
       "      <td>970.0</td>\n",
       "      <td>535.0</td>\n",
       "      <td>...</td>\n",
       "      <td>8.3</td>\n",
       "      <td>8.2</td>\n",
       "      <td>8.1</td>\n",
       "      <td>8.1</td>\n",
       "      <td>8.2</td>\n",
       "      <td>8.0</td>\n",
       "      <td>8.6</td>\n",
       "      <td>8.4</td>\n",
       "      <td>R</td>\n",
       "      <td>USA</td>\n",
       "    </tr>\n",
       "    <tr>\n",
       "      <th>96</th>\n",
       "      <td>Before Midnight</td>\n",
       "      <td>2013</td>\n",
       "      <td>3000000</td>\n",
       "      <td>8114507</td>\n",
       "      <td>Seamus Davey-Fitzpatrick</td>\n",
       "      <td>Ariane Labed</td>\n",
       "      <td>Athina Rachel Tsangari</td>\n",
       "      <td>140</td>\n",
       "      <td>63.0</td>\n",
       "      <td>48.0</td>\n",
       "      <td>...</td>\n",
       "      <td>7.8</td>\n",
       "      <td>7.6</td>\n",
       "      <td>7.3</td>\n",
       "      <td>7.4</td>\n",
       "      <td>7.2</td>\n",
       "      <td>7.0</td>\n",
       "      <td>8.0</td>\n",
       "      <td>7.9</td>\n",
       "      <td>R</td>\n",
       "      <td>USA</td>\n",
       "    </tr>\n",
       "    <tr>\n",
       "      <th>97</th>\n",
       "      <td>Star Wars: Episode VII - The Force Awakens</td>\n",
       "      <td>2015</td>\n",
       "      <td>245000000</td>\n",
       "      <td>936662225</td>\n",
       "      <td>Doug Walker</td>\n",
       "      <td>Rob Walker</td>\n",
       "      <td>0</td>\n",
       "      <td>131</td>\n",
       "      <td>12.0</td>\n",
       "      <td>0.0</td>\n",
       "      <td>...</td>\n",
       "      <td>7.9</td>\n",
       "      <td>8.2</td>\n",
       "      <td>7.9</td>\n",
       "      <td>7.8</td>\n",
       "      <td>8.2</td>\n",
       "      <td>7.7</td>\n",
       "      <td>8.2</td>\n",
       "      <td>7.9</td>\n",
       "      <td>PG-13</td>\n",
       "      <td>USA</td>\n",
       "    </tr>\n",
       "    <tr>\n",
       "      <th>98</th>\n",
       "      <td>Harry Potter and the Deathly Hallows: Part I</td>\n",
       "      <td>2010</td>\n",
       "      <td>150000000</td>\n",
       "      <td>296347721</td>\n",
       "      <td>Rupert Grint</td>\n",
       "      <td>Toby Jones</td>\n",
       "      <td>Alfred Enoch</td>\n",
       "      <td>10000</td>\n",
       "      <td>2000.0</td>\n",
       "      <td>1000.0</td>\n",
       "      <td>...</td>\n",
       "      <td>7.3</td>\n",
       "      <td>8.1</td>\n",
       "      <td>7.4</td>\n",
       "      <td>7.3</td>\n",
       "      <td>8.0</td>\n",
       "      <td>6.7</td>\n",
       "      <td>7.9</td>\n",
       "      <td>7.5</td>\n",
       "      <td>PG-13</td>\n",
       "      <td>UK</td>\n",
       "    </tr>\n",
       "    <tr>\n",
       "      <th>99</th>\n",
       "      <td>Tucker and Dale vs Evil</td>\n",
       "      <td>2010</td>\n",
       "      <td>5000000</td>\n",
       "      <td>223838</td>\n",
       "      <td>Katrina Bowden</td>\n",
       "      <td>Tyler Labine</td>\n",
       "      <td>Chelan Simmons</td>\n",
       "      <td>948</td>\n",
       "      <td>779.0</td>\n",
       "      <td>440.0</td>\n",
       "      <td>...</td>\n",
       "      <td>7.5</td>\n",
       "      <td>7.7</td>\n",
       "      <td>7.5</td>\n",
       "      <td>7.4</td>\n",
       "      <td>7.7</td>\n",
       "      <td>7.1</td>\n",
       "      <td>7.7</td>\n",
       "      <td>7.5</td>\n",
       "      <td>R</td>\n",
       "      <td>Canada</td>\n",
       "    </tr>\n",
       "  </tbody>\n",
       "</table>\n",
       "<p>100 rows × 62 columns</p>\n",
       "</div>"
      ],
      "text/plain": [
       "                                           Title  title_year     budget  \\\n",
       "0                                     La La Land        2016   30000000   \n",
       "1                                       Zootopia        2016  150000000   \n",
       "2                                           Lion        2016   12000000   \n",
       "3                                        Arrival        2016   47000000   \n",
       "4                          Manchester by the Sea        2016    9000000   \n",
       "..                                           ...         ...        ...   \n",
       "95                                      Whiplash        2014    3300000   \n",
       "96                               Before Midnight        2013    3000000   \n",
       "97    Star Wars: Episode VII - The Force Awakens        2015  245000000   \n",
       "98  Harry Potter and the Deathly Hallows: Part I        2010  150000000   \n",
       "99                       Tucker and Dale vs Evil        2010    5000000   \n",
       "\n",
       "        Gross              actor_1_name        actor_2_name  \\\n",
       "0   151101803              Ryan Gosling          Emma Stone   \n",
       "1   341268248          Ginnifer Goodwin       Jason Bateman   \n",
       "2    51738905                 Dev Patel       Nicole Kidman   \n",
       "3   100546139                 Amy Adams       Jeremy Renner   \n",
       "4    47695371             Casey Affleck  Michelle Williams    \n",
       "..        ...                       ...                 ...   \n",
       "95   13092000              J.K. Simmons     Melissa Benoist   \n",
       "96    8114507  Seamus Davey-Fitzpatrick        Ariane Labed   \n",
       "97  936662225               Doug Walker          Rob Walker   \n",
       "98  296347721              Rupert Grint          Toby Jones   \n",
       "99     223838            Katrina Bowden        Tyler Labine   \n",
       "\n",
       "              actor_3_name  actor_1_facebook_likes  actor_2_facebook_likes  \\\n",
       "0               Amiée Conn                   14000                 19000.0   \n",
       "1               Idris Elba                    2800                 28000.0   \n",
       "2              Rooney Mara                   33000                 96000.0   \n",
       "3          Forest Whitaker                   35000                  5300.0   \n",
       "4            Kyle Chandler                     518                 71000.0   \n",
       "..                     ...                     ...                     ...   \n",
       "95            Chris Mulkey                   24000                   970.0   \n",
       "96  Athina Rachel Tsangari                     140                    63.0   \n",
       "97                       0                     131                    12.0   \n",
       "98            Alfred Enoch                   10000                  2000.0   \n",
       "99          Chelan Simmons                     948                   779.0   \n",
       "\n",
       "    actor_3_facebook_likes  ...  Votes3044M Votes3044F Votes45A Votes45AM  \\\n",
       "0                      NaN  ...         7.9        7.8      7.6       7.6   \n",
       "1                  27000.0  ...         7.8        8.1      7.8       7.8   \n",
       "2                   9800.0  ...         7.9        8.2      8.0       7.9   \n",
       "3                      NaN  ...         7.8        7.8      7.6       7.6   \n",
       "4                   3300.0  ...         7.7        7.7      7.6       7.6   \n",
       "..                     ...  ...         ...        ...      ...       ...   \n",
       "95                   535.0  ...         8.3        8.2      8.1       8.1   \n",
       "96                    48.0  ...         7.8        7.6      7.3       7.4   \n",
       "97                     0.0  ...         7.9        8.2      7.9       7.8   \n",
       "98                  1000.0  ...         7.3        8.1      7.4       7.3   \n",
       "99                   440.0  ...         7.5        7.7      7.5       7.4   \n",
       "\n",
       "    Votes45AF  Votes1000  VotesUS  VotesnUS  content_rating    Country  \n",
       "0         7.5        7.1      8.3       8.1           PG-13        USA  \n",
       "1         8.1        7.6      8.0       8.0              PG        USA  \n",
       "2         8.4        7.1      8.1       8.0           PG-13  Australia  \n",
       "3         7.7        7.3      8.0       7.9           PG-13        USA  \n",
       "4         7.6        7.1      7.9       7.8               R        USA  \n",
       "..        ...        ...      ...       ...             ...        ...  \n",
       "95        8.2        8.0      8.6       8.4               R        USA  \n",
       "96        7.2        7.0      8.0       7.9               R        USA  \n",
       "97        8.2        7.7      8.2       7.9           PG-13        USA  \n",
       "98        8.0        6.7      7.9       7.5           PG-13         UK  \n",
       "99        7.7        7.1      7.7       7.5               R     Canada  \n",
       "\n",
       "[100 rows x 62 columns]"
      ]
     },
     "execution_count": 4,
     "metadata": {},
     "output_type": "execute_result"
    }
   ],
   "source": [
    "# Read the csv file using 'read_csv'. Please write your dataset location here.\n",
    "df0 = pd.read_csv(r\"C:\\Users\\LENOVO\\Downloads\\Movie+Assignment+Data (1) (2).csv\")\n",
    "\n",
    "df0"
   ]
  },
  {
   "cell_type": "markdown",
   "metadata": {
    "id": "XjvoHEW0V6jn"
   },
   "source": [
    "- ###  Subtask 1.2: Inspect the Dataframe\n",
    "\n",
    "Inspect the dataframe for dimensions, null-values, and summary of different numeric columns."
   ]
  },
  {
   "cell_type": "code",
   "execution_count": 5,
   "metadata": {
    "id": "UIe8nIuRV6jp"
   },
   "outputs": [
    {
     "name": "stdout",
     "output_type": "stream",
     "text": [
      "100\n",
      "62\n"
     ]
    }
   ],
   "source": [
    "# Check the number of rows and columns in the dataframe\n",
    "\n",
    "df = pd.DataFrame(df0)\n",
    "num_rows, num_columns = df.shape\n",
    "print(num_rows)\n",
    "print(num_columns)"
   ]
  },
  {
   "cell_type": "code",
   "execution_count": 6,
   "metadata": {
    "id": "OAFxOu7pV6jr"
   },
   "outputs": [
    {
     "name": "stdout",
     "output_type": "stream",
     "text": [
      "<class 'pandas.core.frame.DataFrame'>\n",
      "RangeIndex: 100 entries, 0 to 99\n",
      "Data columns (total 62 columns):\n",
      " #   Column                  Non-Null Count  Dtype  \n",
      "---  ------                  --------------  -----  \n",
      " 0   Title                   100 non-null    object \n",
      " 1   title_year              100 non-null    int64  \n",
      " 2   budget                  100 non-null    int64  \n",
      " 3   Gross                   100 non-null    int64  \n",
      " 4   actor_1_name            100 non-null    object \n",
      " 5   actor_2_name            100 non-null    object \n",
      " 6   actor_3_name            100 non-null    object \n",
      " 7   actor_1_facebook_likes  100 non-null    int64  \n",
      " 8   actor_2_facebook_likes  99 non-null     float64\n",
      " 9   actor_3_facebook_likes  98 non-null     float64\n",
      " 10  IMDb_rating             100 non-null    float64\n",
      " 11  genre_1                 100 non-null    object \n",
      " 12  genre_2                 97 non-null     object \n",
      " 13  genre_3                 74 non-null     object \n",
      " 14  MetaCritic              95 non-null     float64\n",
      " 15  Runtime                 100 non-null    int64  \n",
      " 16  CVotes10                100 non-null    int64  \n",
      " 17  CVotes09                100 non-null    int64  \n",
      " 18  CVotes08                100 non-null    int64  \n",
      " 19  CVotes07                100 non-null    int64  \n",
      " 20  CVotes06                100 non-null    int64  \n",
      " 21  CVotes05                100 non-null    int64  \n",
      " 22  CVotes04                100 non-null    int64  \n",
      " 23  CVotes03                100 non-null    int64  \n",
      " 24  CVotes02                100 non-null    int64  \n",
      " 25  CVotes01                100 non-null    int64  \n",
      " 26  CVotesMale              100 non-null    int64  \n",
      " 27  CVotesFemale            100 non-null    int64  \n",
      " 28  CVotesU18               100 non-null    int64  \n",
      " 29  CVotesU18M              100 non-null    int64  \n",
      " 30  CVotesU18F              100 non-null    int64  \n",
      " 31  CVotes1829              100 non-null    int64  \n",
      " 32  CVotes1829M             100 non-null    int64  \n",
      " 33  CVotes1829F             100 non-null    int64  \n",
      " 34  CVotes3044              100 non-null    int64  \n",
      " 35  CVotes3044M             100 non-null    int64  \n",
      " 36  CVotes3044F             100 non-null    int64  \n",
      " 37  CVotes45A               100 non-null    int64  \n",
      " 38  CVotes45AM              100 non-null    int64  \n",
      " 39  CVotes45AF              100 non-null    int64  \n",
      " 40  CVotes1000              100 non-null    int64  \n",
      " 41  CVotesUS                100 non-null    int64  \n",
      " 42  CVotesnUS               100 non-null    int64  \n",
      " 43  VotesM                  100 non-null    float64\n",
      " 44  VotesF                  100 non-null    float64\n",
      " 45  VotesU18                100 non-null    float64\n",
      " 46  VotesU18M               100 non-null    float64\n",
      " 47  VotesU18F               100 non-null    float64\n",
      " 48  Votes1829               100 non-null    float64\n",
      " 49  Votes1829M              100 non-null    float64\n",
      " 50  Votes1829F              100 non-null    float64\n",
      " 51  Votes3044               100 non-null    float64\n",
      " 52  Votes3044M              100 non-null    float64\n",
      " 53  Votes3044F              100 non-null    float64\n",
      " 54  Votes45A                100 non-null    float64\n",
      " 55  Votes45AM               100 non-null    float64\n",
      " 56  Votes45AF               100 non-null    float64\n",
      " 57  Votes1000               100 non-null    float64\n",
      " 58  VotesUS                 100 non-null    float64\n",
      " 59  VotesnUS                100 non-null    float64\n",
      " 60  content_rating          100 non-null    object \n",
      " 61  Country                 100 non-null    object \n",
      "dtypes: float64(21), int64(32), object(9)\n",
      "memory usage: 48.6+ KB\n"
     ]
    }
   ],
   "source": [
    "# Check the column-wise info of the dataframe\n",
    "df.info()\n"
   ]
  },
  {
   "cell_type": "code",
   "execution_count": 7,
   "metadata": {
    "id": "GJqAYjn2V6js"
   },
   "outputs": [
    {
     "data": {
      "text/html": [
       "<div>\n",
       "<style scoped>\n",
       "    .dataframe tbody tr th:only-of-type {\n",
       "        vertical-align: middle;\n",
       "    }\n",
       "\n",
       "    .dataframe tbody tr th {\n",
       "        vertical-align: top;\n",
       "    }\n",
       "\n",
       "    .dataframe thead th {\n",
       "        text-align: right;\n",
       "    }\n",
       "</style>\n",
       "<table border=\"1\" class=\"dataframe\">\n",
       "  <thead>\n",
       "    <tr style=\"text-align: right;\">\n",
       "      <th></th>\n",
       "      <th>title_year</th>\n",
       "      <th>budget</th>\n",
       "      <th>Gross</th>\n",
       "      <th>actor_1_facebook_likes</th>\n",
       "      <th>actor_2_facebook_likes</th>\n",
       "      <th>actor_3_facebook_likes</th>\n",
       "      <th>IMDb_rating</th>\n",
       "      <th>MetaCritic</th>\n",
       "      <th>Runtime</th>\n",
       "      <th>CVotes10</th>\n",
       "      <th>...</th>\n",
       "      <th>Votes1829F</th>\n",
       "      <th>Votes3044</th>\n",
       "      <th>Votes3044M</th>\n",
       "      <th>Votes3044F</th>\n",
       "      <th>Votes45A</th>\n",
       "      <th>Votes45AM</th>\n",
       "      <th>Votes45AF</th>\n",
       "      <th>Votes1000</th>\n",
       "      <th>VotesUS</th>\n",
       "      <th>VotesnUS</th>\n",
       "    </tr>\n",
       "  </thead>\n",
       "  <tbody>\n",
       "    <tr>\n",
       "      <th>count</th>\n",
       "      <td>100.000000</td>\n",
       "      <td>1.000000e+02</td>\n",
       "      <td>1.000000e+02</td>\n",
       "      <td>100.000000</td>\n",
       "      <td>99.000000</td>\n",
       "      <td>98.000000</td>\n",
       "      <td>100.000000</td>\n",
       "      <td>95.000000</td>\n",
       "      <td>100.000000</td>\n",
       "      <td>100.000000</td>\n",
       "      <td>...</td>\n",
       "      <td>100.000000</td>\n",
       "      <td>100.000000</td>\n",
       "      <td>100.000000</td>\n",
       "      <td>100.000000</td>\n",
       "      <td>100.00000</td>\n",
       "      <td>100.000000</td>\n",
       "      <td>100.000000</td>\n",
       "      <td>100.000000</td>\n",
       "      <td>100.000000</td>\n",
       "      <td>100.000000</td>\n",
       "    </tr>\n",
       "    <tr>\n",
       "      <th>mean</th>\n",
       "      <td>2012.820000</td>\n",
       "      <td>7.838400e+07</td>\n",
       "      <td>1.468679e+08</td>\n",
       "      <td>13407.270000</td>\n",
       "      <td>7377.303030</td>\n",
       "      <td>3002.153061</td>\n",
       "      <td>7.883000</td>\n",
       "      <td>78.252632</td>\n",
       "      <td>126.420000</td>\n",
       "      <td>73212.160000</td>\n",
       "      <td>...</td>\n",
       "      <td>7.982000</td>\n",
       "      <td>7.732000</td>\n",
       "      <td>7.723000</td>\n",
       "      <td>7.780000</td>\n",
       "      <td>7.65100</td>\n",
       "      <td>7.624000</td>\n",
       "      <td>7.770000</td>\n",
       "      <td>7.274000</td>\n",
       "      <td>7.958000</td>\n",
       "      <td>7.793000</td>\n",
       "    </tr>\n",
       "    <tr>\n",
       "      <th>std</th>\n",
       "      <td>1.919491</td>\n",
       "      <td>7.445295e+07</td>\n",
       "      <td>1.454004e+08</td>\n",
       "      <td>10649.037862</td>\n",
       "      <td>13471.568216</td>\n",
       "      <td>6940.301133</td>\n",
       "      <td>0.247433</td>\n",
       "      <td>9.122066</td>\n",
       "      <td>19.050799</td>\n",
       "      <td>82669.594746</td>\n",
       "      <td>...</td>\n",
       "      <td>0.321417</td>\n",
       "      <td>0.251814</td>\n",
       "      <td>0.260479</td>\n",
       "      <td>0.282128</td>\n",
       "      <td>0.21485</td>\n",
       "      <td>0.213258</td>\n",
       "      <td>0.301344</td>\n",
       "      <td>0.361987</td>\n",
       "      <td>0.232327</td>\n",
       "      <td>0.264099</td>\n",
       "    </tr>\n",
       "    <tr>\n",
       "      <th>min</th>\n",
       "      <td>2010.000000</td>\n",
       "      <td>3.000000e+06</td>\n",
       "      <td>2.238380e+05</td>\n",
       "      <td>39.000000</td>\n",
       "      <td>12.000000</td>\n",
       "      <td>0.000000</td>\n",
       "      <td>7.500000</td>\n",
       "      <td>62.000000</td>\n",
       "      <td>91.000000</td>\n",
       "      <td>6420.000000</td>\n",
       "      <td>...</td>\n",
       "      <td>7.300000</td>\n",
       "      <td>7.300000</td>\n",
       "      <td>7.200000</td>\n",
       "      <td>7.200000</td>\n",
       "      <td>7.10000</td>\n",
       "      <td>7.100000</td>\n",
       "      <td>7.000000</td>\n",
       "      <td>6.400000</td>\n",
       "      <td>7.500000</td>\n",
       "      <td>7.300000</td>\n",
       "    </tr>\n",
       "    <tr>\n",
       "      <th>25%</th>\n",
       "      <td>2011.000000</td>\n",
       "      <td>1.575000e+07</td>\n",
       "      <td>4.199752e+07</td>\n",
       "      <td>1000.000000</td>\n",
       "      <td>580.000000</td>\n",
       "      <td>319.750000</td>\n",
       "      <td>7.700000</td>\n",
       "      <td>72.000000</td>\n",
       "      <td>114.750000</td>\n",
       "      <td>30587.000000</td>\n",
       "      <td>...</td>\n",
       "      <td>7.700000</td>\n",
       "      <td>7.600000</td>\n",
       "      <td>7.500000</td>\n",
       "      <td>7.600000</td>\n",
       "      <td>7.50000</td>\n",
       "      <td>7.475000</td>\n",
       "      <td>7.500000</td>\n",
       "      <td>7.100000</td>\n",
       "      <td>7.800000</td>\n",
       "      <td>7.600000</td>\n",
       "    </tr>\n",
       "    <tr>\n",
       "      <th>50%</th>\n",
       "      <td>2013.000000</td>\n",
       "      <td>4.225000e+07</td>\n",
       "      <td>1.070266e+08</td>\n",
       "      <td>13000.000000</td>\n",
       "      <td>1000.000000</td>\n",
       "      <td>626.500000</td>\n",
       "      <td>7.800000</td>\n",
       "      <td>78.000000</td>\n",
       "      <td>124.000000</td>\n",
       "      <td>54900.500000</td>\n",
       "      <td>...</td>\n",
       "      <td>8.000000</td>\n",
       "      <td>7.700000</td>\n",
       "      <td>7.700000</td>\n",
       "      <td>7.800000</td>\n",
       "      <td>7.65000</td>\n",
       "      <td>7.600000</td>\n",
       "      <td>7.800000</td>\n",
       "      <td>7.300000</td>\n",
       "      <td>7.950000</td>\n",
       "      <td>7.750000</td>\n",
       "    </tr>\n",
       "    <tr>\n",
       "      <th>75%</th>\n",
       "      <td>2014.000000</td>\n",
       "      <td>1.500000e+08</td>\n",
       "      <td>2.107548e+08</td>\n",
       "      <td>20000.000000</td>\n",
       "      <td>11000.000000</td>\n",
       "      <td>1000.000000</td>\n",
       "      <td>8.100000</td>\n",
       "      <td>83.500000</td>\n",
       "      <td>136.250000</td>\n",
       "      <td>80639.000000</td>\n",
       "      <td>...</td>\n",
       "      <td>8.200000</td>\n",
       "      <td>7.900000</td>\n",
       "      <td>7.900000</td>\n",
       "      <td>8.000000</td>\n",
       "      <td>7.80000</td>\n",
       "      <td>7.800000</td>\n",
       "      <td>7.925000</td>\n",
       "      <td>7.500000</td>\n",
       "      <td>8.100000</td>\n",
       "      <td>7.925000</td>\n",
       "    </tr>\n",
       "    <tr>\n",
       "      <th>max</th>\n",
       "      <td>2016.000000</td>\n",
       "      <td>2.600000e+08</td>\n",
       "      <td>9.366622e+08</td>\n",
       "      <td>35000.000000</td>\n",
       "      <td>96000.000000</td>\n",
       "      <td>46000.000000</td>\n",
       "      <td>8.800000</td>\n",
       "      <td>100.000000</td>\n",
       "      <td>180.000000</td>\n",
       "      <td>584839.000000</td>\n",
       "      <td>...</td>\n",
       "      <td>8.800000</td>\n",
       "      <td>8.700000</td>\n",
       "      <td>8.700000</td>\n",
       "      <td>8.500000</td>\n",
       "      <td>8.10000</td>\n",
       "      <td>8.100000</td>\n",
       "      <td>8.500000</td>\n",
       "      <td>8.200000</td>\n",
       "      <td>8.700000</td>\n",
       "      <td>8.800000</td>\n",
       "    </tr>\n",
       "  </tbody>\n",
       "</table>\n",
       "<p>8 rows × 53 columns</p>\n",
       "</div>"
      ],
      "text/plain": [
       "        title_year        budget         Gross  actor_1_facebook_likes  \\\n",
       "count   100.000000  1.000000e+02  1.000000e+02              100.000000   \n",
       "mean   2012.820000  7.838400e+07  1.468679e+08            13407.270000   \n",
       "std       1.919491  7.445295e+07  1.454004e+08            10649.037862   \n",
       "min    2010.000000  3.000000e+06  2.238380e+05               39.000000   \n",
       "25%    2011.000000  1.575000e+07  4.199752e+07             1000.000000   \n",
       "50%    2013.000000  4.225000e+07  1.070266e+08            13000.000000   \n",
       "75%    2014.000000  1.500000e+08  2.107548e+08            20000.000000   \n",
       "max    2016.000000  2.600000e+08  9.366622e+08            35000.000000   \n",
       "\n",
       "       actor_2_facebook_likes  actor_3_facebook_likes  IMDb_rating  \\\n",
       "count               99.000000               98.000000   100.000000   \n",
       "mean              7377.303030             3002.153061     7.883000   \n",
       "std              13471.568216             6940.301133     0.247433   \n",
       "min                 12.000000                0.000000     7.500000   \n",
       "25%                580.000000              319.750000     7.700000   \n",
       "50%               1000.000000              626.500000     7.800000   \n",
       "75%              11000.000000             1000.000000     8.100000   \n",
       "max              96000.000000            46000.000000     8.800000   \n",
       "\n",
       "       MetaCritic     Runtime       CVotes10  ...  Votes1829F   Votes3044  \\\n",
       "count   95.000000  100.000000     100.000000  ...  100.000000  100.000000   \n",
       "mean    78.252632  126.420000   73212.160000  ...    7.982000    7.732000   \n",
       "std      9.122066   19.050799   82669.594746  ...    0.321417    0.251814   \n",
       "min     62.000000   91.000000    6420.000000  ...    7.300000    7.300000   \n",
       "25%     72.000000  114.750000   30587.000000  ...    7.700000    7.600000   \n",
       "50%     78.000000  124.000000   54900.500000  ...    8.000000    7.700000   \n",
       "75%     83.500000  136.250000   80639.000000  ...    8.200000    7.900000   \n",
       "max    100.000000  180.000000  584839.000000  ...    8.800000    8.700000   \n",
       "\n",
       "       Votes3044M  Votes3044F   Votes45A   Votes45AM   Votes45AF   Votes1000  \\\n",
       "count  100.000000  100.000000  100.00000  100.000000  100.000000  100.000000   \n",
       "mean     7.723000    7.780000    7.65100    7.624000    7.770000    7.274000   \n",
       "std      0.260479    0.282128    0.21485    0.213258    0.301344    0.361987   \n",
       "min      7.200000    7.200000    7.10000    7.100000    7.000000    6.400000   \n",
       "25%      7.500000    7.600000    7.50000    7.475000    7.500000    7.100000   \n",
       "50%      7.700000    7.800000    7.65000    7.600000    7.800000    7.300000   \n",
       "75%      7.900000    8.000000    7.80000    7.800000    7.925000    7.500000   \n",
       "max      8.700000    8.500000    8.10000    8.100000    8.500000    8.200000   \n",
       "\n",
       "          VotesUS    VotesnUS  \n",
       "count  100.000000  100.000000  \n",
       "mean     7.958000    7.793000  \n",
       "std      0.232327    0.264099  \n",
       "min      7.500000    7.300000  \n",
       "25%      7.800000    7.600000  \n",
       "50%      7.950000    7.750000  \n",
       "75%      8.100000    7.925000  \n",
       "max      8.700000    8.800000  \n",
       "\n",
       "[8 rows x 53 columns]"
      ]
     },
     "execution_count": 7,
     "metadata": {},
     "output_type": "execute_result"
    }
   ],
   "source": [
    "# Check the summary for the numeric columns\n",
    "\n",
    "df.describe()"
   ]
  },
  {
   "cell_type": "markdown",
   "metadata": {
    "id": "foXOZxNwV6jt"
   },
   "source": [
    "## Task 2: Data Analysis\n",
    "\n",
    "Now that we have loaded the dataset and inspected it, we see that most of the data is in place. As of now, no data cleaning is required, so let's start with some data manipulation, analysis, and visualisation to get various insights about the data."
   ]
  },
  {
   "cell_type": "markdown",
   "metadata": {
    "id": "ZfdRqicpV6ju"
   },
   "source": [
    "-  ###  Subtask 2.1: Reduce those Digits!\n",
    "\n",
    "These numbers in the `budget` and `gross` are too big, compromising its readability. Let's convert the unit of the `budget` and `gross` columns from `$` to `million $` first."
   ]
  },
  {
   "cell_type": "code",
   "execution_count": 8,
   "metadata": {
    "id": "C52rQxjJV6ju"
   },
   "outputs": [
    {
     "name": "stdout",
     "output_type": "stream",
     "text": [
      "                                           Title  title_year  budget  \\\n",
      "0                                     La La Land        2016    30.0   \n",
      "1                                       Zootopia        2016   150.0   \n",
      "2                                           Lion        2016    12.0   \n",
      "3                                        Arrival        2016    47.0   \n",
      "4                          Manchester by the Sea        2016     9.0   \n",
      "..                                           ...         ...     ...   \n",
      "95                                      Whiplash        2014     3.3   \n",
      "96                               Before Midnight        2013     3.0   \n",
      "97    Star Wars: Episode VII - The Force Awakens        2015   245.0   \n",
      "98  Harry Potter and the Deathly Hallows: Part I        2010   150.0   \n",
      "99                       Tucker and Dale vs Evil        2010     5.0   \n",
      "\n",
      "         Gross              actor_1_name        actor_2_name  \\\n",
      "0   151.101803              Ryan Gosling          Emma Stone   \n",
      "1   341.268248          Ginnifer Goodwin       Jason Bateman   \n",
      "2    51.738905                 Dev Patel       Nicole Kidman   \n",
      "3   100.546139                 Amy Adams       Jeremy Renner   \n",
      "4    47.695371             Casey Affleck  Michelle Williams    \n",
      "..         ...                       ...                 ...   \n",
      "95   13.092000              J.K. Simmons     Melissa Benoist   \n",
      "96    8.114507  Seamus Davey-Fitzpatrick        Ariane Labed   \n",
      "97  936.662225               Doug Walker          Rob Walker   \n",
      "98  296.347721              Rupert Grint          Toby Jones   \n",
      "99    0.223838            Katrina Bowden        Tyler Labine   \n",
      "\n",
      "              actor_3_name  actor_1_facebook_likes  actor_2_facebook_likes  \\\n",
      "0               Amiée Conn                   14000                 19000.0   \n",
      "1               Idris Elba                    2800                 28000.0   \n",
      "2              Rooney Mara                   33000                 96000.0   \n",
      "3          Forest Whitaker                   35000                  5300.0   \n",
      "4            Kyle Chandler                     518                 71000.0   \n",
      "..                     ...                     ...                     ...   \n",
      "95            Chris Mulkey                   24000                   970.0   \n",
      "96  Athina Rachel Tsangari                     140                    63.0   \n",
      "97                       0                     131                    12.0   \n",
      "98            Alfred Enoch                   10000                  2000.0   \n",
      "99          Chelan Simmons                     948                   779.0   \n",
      "\n",
      "    actor_3_facebook_likes  ...  Votes3044M Votes3044F Votes45A Votes45AM  \\\n",
      "0                      NaN  ...         7.9        7.8      7.6       7.6   \n",
      "1                  27000.0  ...         7.8        8.1      7.8       7.8   \n",
      "2                   9800.0  ...         7.9        8.2      8.0       7.9   \n",
      "3                      NaN  ...         7.8        7.8      7.6       7.6   \n",
      "4                   3300.0  ...         7.7        7.7      7.6       7.6   \n",
      "..                     ...  ...         ...        ...      ...       ...   \n",
      "95                   535.0  ...         8.3        8.2      8.1       8.1   \n",
      "96                    48.0  ...         7.8        7.6      7.3       7.4   \n",
      "97                     0.0  ...         7.9        8.2      7.9       7.8   \n",
      "98                  1000.0  ...         7.3        8.1      7.4       7.3   \n",
      "99                   440.0  ...         7.5        7.7      7.5       7.4   \n",
      "\n",
      "    Votes45AF  Votes1000  VotesUS  VotesnUS  content_rating    Country  \n",
      "0         7.5        7.1      8.3       8.1           PG-13        USA  \n",
      "1         8.1        7.6      8.0       8.0              PG        USA  \n",
      "2         8.4        7.1      8.1       8.0           PG-13  Australia  \n",
      "3         7.7        7.3      8.0       7.9           PG-13        USA  \n",
      "4         7.6        7.1      7.9       7.8               R        USA  \n",
      "..        ...        ...      ...       ...             ...        ...  \n",
      "95        8.2        8.0      8.6       8.4               R        USA  \n",
      "96        7.2        7.0      8.0       7.9               R        USA  \n",
      "97        8.2        7.7      8.2       7.9           PG-13        USA  \n",
      "98        8.0        6.7      7.9       7.5           PG-13         UK  \n",
      "99        7.7        7.1      7.7       7.5               R     Canada  \n",
      "\n",
      "[100 rows x 62 columns]\n"
     ]
    }
   ],
   "source": [
    "# Divide the 'gross' and 'budget' columns by 1000000 to convert '$' to 'million $'\n",
    "\n",
    "df['Gross'] = df['Gross'] / 1000000\n",
    "df['budget'] = df['budget'] / 1000000\n",
    "print(df)"
   ]
  },
  {
   "cell_type": "markdown",
   "metadata": {
    "id": "uLVvZcF4V6jv"
   },
   "source": [
    "-  ###  Subtask 2.2: Let's Talk Profit!\n",
    "\n",
    "    1. Create a new column called `profit` which contains the difference of the two columns: `gross` and `budget`.\n",
    "    2. Sort the dataframe using the `profit` column as reference.\n",
    "    3. Extract the top ten profiting movies in descending order and store them in a new dataframe - `top10`.\n",
    "    4. Plot a scatter or a joint plot between the columns `budget` and `profit` and write a few words on what you observed.\n",
    "    5. Extract the movies with a negative profit and store them in a new dataframe - `neg_profit`"
   ]
  },
  {
   "cell_type": "code",
   "execution_count": 9,
   "metadata": {
    "id": "SPK3qN7lV6jw"
   },
   "outputs": [
    {
     "name": "stdout",
     "output_type": "stream",
     "text": [
      "                                           Title  title_year  budget  \\\n",
      "0                                     La La Land        2016    30.0   \n",
      "1                                       Zootopia        2016   150.0   \n",
      "2                                           Lion        2016    12.0   \n",
      "3                                        Arrival        2016    47.0   \n",
      "4                          Manchester by the Sea        2016     9.0   \n",
      "..                                           ...         ...     ...   \n",
      "95                                      Whiplash        2014     3.3   \n",
      "96                               Before Midnight        2013     3.0   \n",
      "97    Star Wars: Episode VII - The Force Awakens        2015   245.0   \n",
      "98  Harry Potter and the Deathly Hallows: Part I        2010   150.0   \n",
      "99                       Tucker and Dale vs Evil        2010     5.0   \n",
      "\n",
      "         Gross              actor_1_name        actor_2_name  \\\n",
      "0   151.101803              Ryan Gosling          Emma Stone   \n",
      "1   341.268248          Ginnifer Goodwin       Jason Bateman   \n",
      "2    51.738905                 Dev Patel       Nicole Kidman   \n",
      "3   100.546139                 Amy Adams       Jeremy Renner   \n",
      "4    47.695371             Casey Affleck  Michelle Williams    \n",
      "..         ...                       ...                 ...   \n",
      "95   13.092000              J.K. Simmons     Melissa Benoist   \n",
      "96    8.114507  Seamus Davey-Fitzpatrick        Ariane Labed   \n",
      "97  936.662225               Doug Walker          Rob Walker   \n",
      "98  296.347721              Rupert Grint          Toby Jones   \n",
      "99    0.223838            Katrina Bowden        Tyler Labine   \n",
      "\n",
      "              actor_3_name  actor_1_facebook_likes  actor_2_facebook_likes  \\\n",
      "0               Amiée Conn                   14000                 19000.0   \n",
      "1               Idris Elba                    2800                 28000.0   \n",
      "2              Rooney Mara                   33000                 96000.0   \n",
      "3          Forest Whitaker                   35000                  5300.0   \n",
      "4            Kyle Chandler                     518                 71000.0   \n",
      "..                     ...                     ...                     ...   \n",
      "95            Chris Mulkey                   24000                   970.0   \n",
      "96  Athina Rachel Tsangari                     140                    63.0   \n",
      "97                       0                     131                    12.0   \n",
      "98            Alfred Enoch                   10000                  2000.0   \n",
      "99          Chelan Simmons                     948                   779.0   \n",
      "\n",
      "    actor_3_facebook_likes  ...  Votes3044F Votes45A Votes45AM Votes45AF  \\\n",
      "0                      NaN  ...         7.8      7.6       7.6       7.5   \n",
      "1                  27000.0  ...         8.1      7.8       7.8       8.1   \n",
      "2                   9800.0  ...         8.2      8.0       7.9       8.4   \n",
      "3                      NaN  ...         7.8      7.6       7.6       7.7   \n",
      "4                   3300.0  ...         7.7      7.6       7.6       7.6   \n",
      "..                     ...  ...         ...      ...       ...       ...   \n",
      "95                   535.0  ...         8.2      8.1       8.1       8.2   \n",
      "96                    48.0  ...         7.6      7.3       7.4       7.2   \n",
      "97                     0.0  ...         8.2      7.9       7.8       8.2   \n",
      "98                  1000.0  ...         8.1      7.4       7.3       8.0   \n",
      "99                   440.0  ...         7.7      7.5       7.4       7.7   \n",
      "\n",
      "    Votes1000  VotesUS  VotesnUS  content_rating    Country      Profit  \n",
      "0         7.1      8.3       8.1           PG-13        USA  121.101803  \n",
      "1         7.6      8.0       8.0              PG        USA  191.268248  \n",
      "2         7.1      8.1       8.0           PG-13  Australia   39.738905  \n",
      "3         7.3      8.0       7.9           PG-13        USA   53.546139  \n",
      "4         7.1      7.9       7.8               R        USA   38.695371  \n",
      "..        ...      ...       ...             ...        ...         ...  \n",
      "95        8.0      8.6       8.4               R        USA    9.792000  \n",
      "96        7.0      8.0       7.9               R        USA    5.114507  \n",
      "97        7.7      8.2       7.9           PG-13        USA  691.662225  \n",
      "98        6.7      7.9       7.5           PG-13         UK  146.347721  \n",
      "99        7.1      7.7       7.5               R     Canada   -4.776162  \n",
      "\n",
      "[100 rows x 63 columns]\n"
     ]
    }
   ],
   "source": [
    "# Create the new column named 'profit' by subtracting the 'budget' column from the 'gross' column\n",
    "\n",
    "df['Profit'] = df['Gross'] - df['budget']\n",
    "print(df)"
   ]
  },
  {
   "cell_type": "code",
   "execution_count": 13,
   "metadata": {
    "id": "e2DokiT7V6jw"
   },
   "outputs": [
    {
     "data": {
      "text/html": [
       "<div>\n",
       "<style scoped>\n",
       "    .dataframe tbody tr th:only-of-type {\n",
       "        vertical-align: middle;\n",
       "    }\n",
       "\n",
       "    .dataframe tbody tr th {\n",
       "        vertical-align: top;\n",
       "    }\n",
       "\n",
       "    .dataframe thead th {\n",
       "        text-align: right;\n",
       "    }\n",
       "</style>\n",
       "<table border=\"1\" class=\"dataframe\">\n",
       "  <thead>\n",
       "    <tr style=\"text-align: right;\">\n",
       "      <th></th>\n",
       "      <th>Title</th>\n",
       "      <th>title_year</th>\n",
       "      <th>budget</th>\n",
       "      <th>Gross</th>\n",
       "      <th>actor_1_name</th>\n",
       "      <th>actor_2_name</th>\n",
       "      <th>actor_3_name</th>\n",
       "      <th>actor_1_facebook_likes</th>\n",
       "      <th>actor_2_facebook_likes</th>\n",
       "      <th>actor_3_facebook_likes</th>\n",
       "      <th>...</th>\n",
       "      <th>Votes3044F</th>\n",
       "      <th>Votes45A</th>\n",
       "      <th>Votes45AM</th>\n",
       "      <th>Votes45AF</th>\n",
       "      <th>Votes1000</th>\n",
       "      <th>VotesUS</th>\n",
       "      <th>VotesnUS</th>\n",
       "      <th>content_rating</th>\n",
       "      <th>Country</th>\n",
       "      <th>Profit</th>\n",
       "    </tr>\n",
       "  </thead>\n",
       "  <tbody>\n",
       "    <tr>\n",
       "      <th>97</th>\n",
       "      <td>Star Wars: Episode VII - The Force Awakens</td>\n",
       "      <td>2015</td>\n",
       "      <td>245.0</td>\n",
       "      <td>936.662225</td>\n",
       "      <td>Doug Walker</td>\n",
       "      <td>Rob Walker</td>\n",
       "      <td>0</td>\n",
       "      <td>131</td>\n",
       "      <td>12.0</td>\n",
       "      <td>0.0</td>\n",
       "      <td>...</td>\n",
       "      <td>8.2</td>\n",
       "      <td>7.9</td>\n",
       "      <td>7.8</td>\n",
       "      <td>8.2</td>\n",
       "      <td>7.7</td>\n",
       "      <td>8.2</td>\n",
       "      <td>7.9</td>\n",
       "      <td>PG-13</td>\n",
       "      <td>USA</td>\n",
       "      <td>691.662225</td>\n",
       "    </tr>\n",
       "    <tr>\n",
       "      <th>11</th>\n",
       "      <td>The Avengers</td>\n",
       "      <td>2012</td>\n",
       "      <td>220.0</td>\n",
       "      <td>623.279547</td>\n",
       "      <td>Chris Hemsworth</td>\n",
       "      <td>Robert Downey Jr.</td>\n",
       "      <td>Scarlett Johansson</td>\n",
       "      <td>26000</td>\n",
       "      <td>21000.0</td>\n",
       "      <td>19000.0</td>\n",
       "      <td>...</td>\n",
       "      <td>8.1</td>\n",
       "      <td>7.9</td>\n",
       "      <td>7.9</td>\n",
       "      <td>8.1</td>\n",
       "      <td>7.4</td>\n",
       "      <td>8.3</td>\n",
       "      <td>7.9</td>\n",
       "      <td>PG-13</td>\n",
       "      <td>USA</td>\n",
       "      <td>403.279547</td>\n",
       "    </tr>\n",
       "    <tr>\n",
       "      <th>47</th>\n",
       "      <td>Deadpool</td>\n",
       "      <td>2016</td>\n",
       "      <td>58.0</td>\n",
       "      <td>363.024263</td>\n",
       "      <td>Ryan Reynolds</td>\n",
       "      <td>Ed Skrein</td>\n",
       "      <td>Stefan Kapicic</td>\n",
       "      <td>16000</td>\n",
       "      <td>805.0</td>\n",
       "      <td>361.0</td>\n",
       "      <td>...</td>\n",
       "      <td>7.9</td>\n",
       "      <td>7.8</td>\n",
       "      <td>7.8</td>\n",
       "      <td>7.9</td>\n",
       "      <td>7.3</td>\n",
       "      <td>8.1</td>\n",
       "      <td>7.9</td>\n",
       "      <td>R</td>\n",
       "      <td>USA</td>\n",
       "      <td>305.024263</td>\n",
       "    </tr>\n",
       "    <tr>\n",
       "      <th>32</th>\n",
       "      <td>The Hunger Games: Catching Fire</td>\n",
       "      <td>2013</td>\n",
       "      <td>130.0</td>\n",
       "      <td>424.645577</td>\n",
       "      <td>Jennifer Lawrence</td>\n",
       "      <td>Josh Hutcherson</td>\n",
       "      <td>Sandra Ellis Lafferty</td>\n",
       "      <td>34000</td>\n",
       "      <td>14000.0</td>\n",
       "      <td>523.0</td>\n",
       "      <td>...</td>\n",
       "      <td>7.9</td>\n",
       "      <td>7.3</td>\n",
       "      <td>7.2</td>\n",
       "      <td>7.9</td>\n",
       "      <td>6.7</td>\n",
       "      <td>7.7</td>\n",
       "      <td>7.4</td>\n",
       "      <td>PG-13</td>\n",
       "      <td>USA</td>\n",
       "      <td>294.645577</td>\n",
       "    </tr>\n",
       "    <tr>\n",
       "      <th>12</th>\n",
       "      <td>Toy Story 3</td>\n",
       "      <td>2010</td>\n",
       "      <td>200.0</td>\n",
       "      <td>414.984497</td>\n",
       "      <td>Tom Hanks</td>\n",
       "      <td>John Ratzenberger</td>\n",
       "      <td>Don Rickles</td>\n",
       "      <td>15000</td>\n",
       "      <td>1000.0</td>\n",
       "      <td>721.0</td>\n",
       "      <td>...</td>\n",
       "      <td>8.3</td>\n",
       "      <td>8.1</td>\n",
       "      <td>8.1</td>\n",
       "      <td>8.1</td>\n",
       "      <td>8.1</td>\n",
       "      <td>8.5</td>\n",
       "      <td>8.3</td>\n",
       "      <td>G</td>\n",
       "      <td>USA</td>\n",
       "      <td>214.984497</td>\n",
       "    </tr>\n",
       "    <tr>\n",
       "      <th>...</th>\n",
       "      <td>...</td>\n",
       "      <td>...</td>\n",
       "      <td>...</td>\n",
       "      <td>...</td>\n",
       "      <td>...</td>\n",
       "      <td>...</td>\n",
       "      <td>...</td>\n",
       "      <td>...</td>\n",
       "      <td>...</td>\n",
       "      <td>...</td>\n",
       "      <td>...</td>\n",
       "      <td>...</td>\n",
       "      <td>...</td>\n",
       "      <td>...</td>\n",
       "      <td>...</td>\n",
       "      <td>...</td>\n",
       "      <td>...</td>\n",
       "      <td>...</td>\n",
       "      <td>...</td>\n",
       "      <td>...</td>\n",
       "      <td>...</td>\n",
       "    </tr>\n",
       "    <tr>\n",
       "      <th>46</th>\n",
       "      <td>Scott Pilgrim vs. the World</td>\n",
       "      <td>2010</td>\n",
       "      <td>60.0</td>\n",
       "      <td>31.494270</td>\n",
       "      <td>Anna Kendrick</td>\n",
       "      <td>Kieran Culkin</td>\n",
       "      <td>Ellen Wong</td>\n",
       "      <td>10000</td>\n",
       "      <td>1000.0</td>\n",
       "      <td>719.0</td>\n",
       "      <td>...</td>\n",
       "      <td>7.2</td>\n",
       "      <td>7.1</td>\n",
       "      <td>7.1</td>\n",
       "      <td>7.0</td>\n",
       "      <td>6.6</td>\n",
       "      <td>7.8</td>\n",
       "      <td>7.4</td>\n",
       "      <td>PG-13</td>\n",
       "      <td>USA</td>\n",
       "      <td>-28.505730</td>\n",
       "    </tr>\n",
       "    <tr>\n",
       "      <th>7</th>\n",
       "      <td>Tangled</td>\n",
       "      <td>2010</td>\n",
       "      <td>260.0</td>\n",
       "      <td>200.807262</td>\n",
       "      <td>Brad Garrett</td>\n",
       "      <td>Donna Murphy</td>\n",
       "      <td>M.C. Gainey</td>\n",
       "      <td>799</td>\n",
       "      <td>553.0</td>\n",
       "      <td>284.0</td>\n",
       "      <td>...</td>\n",
       "      <td>8.0</td>\n",
       "      <td>7.7</td>\n",
       "      <td>7.6</td>\n",
       "      <td>7.9</td>\n",
       "      <td>6.9</td>\n",
       "      <td>7.9</td>\n",
       "      <td>7.7</td>\n",
       "      <td>PG</td>\n",
       "      <td>USA</td>\n",
       "      <td>-59.192738</td>\n",
       "    </tr>\n",
       "    <tr>\n",
       "      <th>17</th>\n",
       "      <td>Edge of Tomorrow</td>\n",
       "      <td>2014</td>\n",
       "      <td>178.0</td>\n",
       "      <td>100.189501</td>\n",
       "      <td>Tom Cruise</td>\n",
       "      <td>Lara Pulver</td>\n",
       "      <td>Noah Taylor</td>\n",
       "      <td>10000</td>\n",
       "      <td>854.0</td>\n",
       "      <td>509.0</td>\n",
       "      <td>...</td>\n",
       "      <td>7.7</td>\n",
       "      <td>7.8</td>\n",
       "      <td>7.8</td>\n",
       "      <td>7.8</td>\n",
       "      <td>7.5</td>\n",
       "      <td>8.0</td>\n",
       "      <td>7.8</td>\n",
       "      <td>PG-13</td>\n",
       "      <td>USA</td>\n",
       "      <td>-77.810499</td>\n",
       "    </tr>\n",
       "    <tr>\n",
       "      <th>39</th>\n",
       "      <td>The Little Prince</td>\n",
       "      <td>2015</td>\n",
       "      <td>81.2</td>\n",
       "      <td>1.339152</td>\n",
       "      <td>Jeff Bridges</td>\n",
       "      <td>James Franco</td>\n",
       "      <td>Mackenzie Foy</td>\n",
       "      <td>12000</td>\n",
       "      <td>11000.0</td>\n",
       "      <td>6000.0</td>\n",
       "      <td>...</td>\n",
       "      <td>7.9</td>\n",
       "      <td>7.5</td>\n",
       "      <td>7.4</td>\n",
       "      <td>7.9</td>\n",
       "      <td>6.6</td>\n",
       "      <td>7.7</td>\n",
       "      <td>7.7</td>\n",
       "      <td>PG</td>\n",
       "      <td>France</td>\n",
       "      <td>-79.860848</td>\n",
       "    </tr>\n",
       "    <tr>\n",
       "      <th>22</th>\n",
       "      <td>Hugo</td>\n",
       "      <td>2011</td>\n",
       "      <td>170.0</td>\n",
       "      <td>73.820094</td>\n",
       "      <td>ChloÃ« Grace Moretz</td>\n",
       "      <td>Christopher Lee</td>\n",
       "      <td>Ray Winstone</td>\n",
       "      <td>17000</td>\n",
       "      <td>16000.0</td>\n",
       "      <td>1000.0</td>\n",
       "      <td>...</td>\n",
       "      <td>7.4</td>\n",
       "      <td>7.5</td>\n",
       "      <td>7.5</td>\n",
       "      <td>7.6</td>\n",
       "      <td>7.4</td>\n",
       "      <td>7.7</td>\n",
       "      <td>7.5</td>\n",
       "      <td>PG</td>\n",
       "      <td>USA</td>\n",
       "      <td>-96.179906</td>\n",
       "    </tr>\n",
       "  </tbody>\n",
       "</table>\n",
       "<p>100 rows × 63 columns</p>\n",
       "</div>"
      ],
      "text/plain": [
       "                                         Title  title_year  budget  \\\n",
       "97  Star Wars: Episode VII - The Force Awakens        2015   245.0   \n",
       "11                                The Avengers        2012   220.0   \n",
       "47                                    Deadpool        2016    58.0   \n",
       "32             The Hunger Games: Catching Fire        2013   130.0   \n",
       "12                                 Toy Story 3        2010   200.0   \n",
       "..                                         ...         ...     ...   \n",
       "46                 Scott Pilgrim vs. the World        2010    60.0   \n",
       "7                                      Tangled        2010   260.0   \n",
       "17                            Edge of Tomorrow        2014   178.0   \n",
       "39                           The Little Prince        2015    81.2   \n",
       "22                                        Hugo        2011   170.0   \n",
       "\n",
       "         Gross         actor_1_name       actor_2_name           actor_3_name  \\\n",
       "97  936.662225          Doug Walker         Rob Walker                      0   \n",
       "11  623.279547      Chris Hemsworth  Robert Downey Jr.     Scarlett Johansson   \n",
       "47  363.024263        Ryan Reynolds          Ed Skrein         Stefan Kapicic   \n",
       "32  424.645577    Jennifer Lawrence    Josh Hutcherson  Sandra Ellis Lafferty   \n",
       "12  414.984497            Tom Hanks  John Ratzenberger            Don Rickles   \n",
       "..         ...                  ...                ...                    ...   \n",
       "46   31.494270        Anna Kendrick      Kieran Culkin             Ellen Wong   \n",
       "7   200.807262         Brad Garrett       Donna Murphy            M.C. Gainey   \n",
       "17  100.189501           Tom Cruise        Lara Pulver            Noah Taylor   \n",
       "39    1.339152         Jeff Bridges       James Franco          Mackenzie Foy   \n",
       "22   73.820094  ChloÃ« Grace Moretz    Christopher Lee           Ray Winstone   \n",
       "\n",
       "    actor_1_facebook_likes  actor_2_facebook_likes  actor_3_facebook_likes  \\\n",
       "97                     131                    12.0                     0.0   \n",
       "11                   26000                 21000.0                 19000.0   \n",
       "47                   16000                   805.0                   361.0   \n",
       "32                   34000                 14000.0                   523.0   \n",
       "12                   15000                  1000.0                   721.0   \n",
       "..                     ...                     ...                     ...   \n",
       "46                   10000                  1000.0                   719.0   \n",
       "7                      799                   553.0                   284.0   \n",
       "17                   10000                   854.0                   509.0   \n",
       "39                   12000                 11000.0                  6000.0   \n",
       "22                   17000                 16000.0                  1000.0   \n",
       "\n",
       "    ...  Votes3044F Votes45A Votes45AM Votes45AF  Votes1000  VotesUS  \\\n",
       "97  ...         8.2      7.9       7.8       8.2        7.7      8.2   \n",
       "11  ...         8.1      7.9       7.9       8.1        7.4      8.3   \n",
       "47  ...         7.9      7.8       7.8       7.9        7.3      8.1   \n",
       "32  ...         7.9      7.3       7.2       7.9        6.7      7.7   \n",
       "12  ...         8.3      8.1       8.1       8.1        8.1      8.5   \n",
       "..  ...         ...      ...       ...       ...        ...      ...   \n",
       "46  ...         7.2      7.1       7.1       7.0        6.6      7.8   \n",
       "7   ...         8.0      7.7       7.6       7.9        6.9      7.9   \n",
       "17  ...         7.7      7.8       7.8       7.8        7.5      8.0   \n",
       "39  ...         7.9      7.5       7.4       7.9        6.6      7.7   \n",
       "22  ...         7.4      7.5       7.5       7.6        7.4      7.7   \n",
       "\n",
       "    VotesnUS  content_rating  Country      Profit  \n",
       "97       7.9           PG-13      USA  691.662225  \n",
       "11       7.9           PG-13      USA  403.279547  \n",
       "47       7.9               R      USA  305.024263  \n",
       "32       7.4           PG-13      USA  294.645577  \n",
       "12       8.3               G      USA  214.984497  \n",
       "..       ...             ...      ...         ...  \n",
       "46       7.4           PG-13      USA  -28.505730  \n",
       "7        7.7              PG      USA  -59.192738  \n",
       "17       7.8           PG-13      USA  -77.810499  \n",
       "39       7.7              PG   France  -79.860848  \n",
       "22       7.5              PG      USA  -96.179906  \n",
       "\n",
       "[100 rows x 63 columns]"
      ]
     },
     "execution_count": 13,
     "metadata": {},
     "output_type": "execute_result"
    }
   ],
   "source": [
    "# Sort the dataframe with the 'profit' column as reference using the 'sort_values' function. Make sure to set the argument\n",
    "#'ascending' to 'False'\n",
    "\n",
    "df = df.sort_values(by='Profit', ascending=False)\n",
    "df"
   ]
  },
  {
   "cell_type": "code",
   "execution_count": 11,
   "metadata": {
    "id": "afuikrQLV6jx"
   },
   "outputs": [],
   "source": [
    "# Get the top 10 profitable movies by using position based indexing. Specify the rows till 10 (0-9)\n",
    "\n",
    "topmovies = df.iloc[:10]\n"
   ]
  },
  {
   "cell_type": "code",
   "execution_count": 12,
   "metadata": {
    "id": "875i7oE3V6jy"
   },
   "outputs": [
    {
     "data": {
      "image/png": "[encoded data removed]",
      "text/plain": [
       "<Figure size 1000x600 with 1 Axes>"
      ]
     },
     "metadata": {},
     "output_type": "display_data"
    }
   ],
   "source": [
    "#Plot profit vs budget\n",
    "\n",
    "plt.figure(figsize=(10, 6))\n",
    "plt.scatter(df['budget'], df['Profit'], alpha=0.7)\n",
    "plt.title('Scatter Plot of Profit vs. Budget')\n",
    "plt.xlabel('Budget (in million $)')\n",
    "plt.ylabel('Profit (in million $)')\n",
    "plt.grid(True)\n",
    "plt.show()\n"
   ]
  },
  {
   "cell_type": "markdown",
   "metadata": {
    "id": "zglmH4nzV6jz"
   },
   "source": [
    "The dataset contains the 100 best performing movies from the year 2010 to 2016. However scatter plot tells a different story. You can notice that there are some movies with negative profit. Although good movies do incur losses, but there appear to be quite a few movie with losses. What can be the reason behind this? Lets have a closer look at this by finding the movies with negative profit."
   ]
  },
  {
   "cell_type": "code",
   "execution_count": 15,
   "metadata": {
    "id": "QOyPziOSV6jz"
   },
   "outputs": [
    {
     "name": "stdout",
     "output_type": "stream",
     "text": [
      "                          Title  title_year  budget       Gross  \\\n",
      "99      Tucker and Dale vs Evil        2010     5.0    0.223838   \n",
      "89                        Amour        2012     8.9    0.225377   \n",
      "56                         Rush        2013    38.0   26.903709   \n",
      "66                      Warrior        2011    25.0   13.651662   \n",
      "82                      Flipped        2010    14.0    1.752214   \n",
      "28           X-Men: First Class        2011   160.0  146.405371   \n",
      "46  Scott Pilgrim vs. the World        2010    60.0   31.494270   \n",
      "7                       Tangled        2010   260.0  200.807262   \n",
      "17             Edge of Tomorrow        2014   178.0  100.189501   \n",
      "39            The Little Prince        2015    81.2    1.339152   \n",
      "22                         Hugo        2011   170.0   73.820094   \n",
      "\n",
      "           actor_1_name        actor_2_name            actor_3_name  \\\n",
      "99       Katrina Bowden        Tyler Labine          Chelan Simmons   \n",
      "89     Isabelle Huppert     Emmanuelle Riva  Jean-Louis Trintignant   \n",
      "56      Chris Hemsworth        Olivia Wilde    Alexandra Maria Lara   \n",
      "66            Tom Hardy        Frank Grillo              Kevin Dunn   \n",
      "82     Madeline Carroll   Rebecca De Mornay             Aidan Quinn   \n",
      "28    Jennifer Lawrence  Michael Fassbender            Oliver Platt   \n",
      "46        Anna Kendrick       Kieran Culkin              Ellen Wong   \n",
      "7          Brad Garrett        Donna Murphy             M.C. Gainey   \n",
      "17           Tom Cruise         Lara Pulver             Noah Taylor   \n",
      "39         Jeff Bridges        James Franco           Mackenzie Foy   \n",
      "22  ChloÃ« Grace Moretz     Christopher Lee            Ray Winstone   \n",
      "\n",
      "    actor_1_facebook_likes  actor_2_facebook_likes  actor_3_facebook_likes  \\\n",
      "99                     948                   779.0                   440.0   \n",
      "89                     678                   432.0                   319.0   \n",
      "56                   26000                 10000.0                   471.0   \n",
      "66                   27000                   798.0                   581.0   \n",
      "82                    1000                   872.0                   767.0   \n",
      "28                   34000                 13000.0                  1000.0   \n",
      "46                   10000                  1000.0                   719.0   \n",
      "7                      799                   553.0                   284.0   \n",
      "17                   10000                   854.0                   509.0   \n",
      "39                   12000                 11000.0                  6000.0   \n",
      "22                   17000                 16000.0                  1000.0   \n",
      "\n",
      "    ...  Votes3044F Votes45A Votes45AM Votes45AF  Votes1000  VotesUS  \\\n",
      "99  ...         7.7      7.5       7.4       7.7        7.1      7.7   \n",
      "89  ...         7.9      7.9       7.8       8.1        7.2      7.9   \n",
      "56  ...         7.9      7.8       7.8       7.8        7.1      7.9   \n",
      "66  ...         8.0      7.7       7.7       7.5        7.1      8.2   \n",
      "82  ...         7.7      7.4       7.3       7.6        6.4      7.5   \n",
      "28  ...         7.8      7.6       7.5       7.7        7.3      7.8   \n",
      "46  ...         7.2      7.1       7.1       7.0        6.6      7.8   \n",
      "7   ...         8.0      7.7       7.6       7.9        6.9      7.9   \n",
      "17  ...         7.7      7.8       7.8       7.8        7.5      8.0   \n",
      "39  ...         7.9      7.5       7.4       7.9        6.6      7.7   \n",
      "22  ...         7.4      7.5       7.5       7.6        7.4      7.7   \n",
      "\n",
      "    VotesnUS  content_rating  Country     Profit  \n",
      "99       7.5               R   Canada  -4.776162  \n",
      "89       7.8           PG-13   France  -8.674623  \n",
      "56       8.1               R       UK -11.096291  \n",
      "66       8.1           PG-13      USA -11.348338  \n",
      "82       7.7              PG      USA -12.247786  \n",
      "28       7.7           PG-13      USA -13.594629  \n",
      "46       7.4           PG-13      USA -28.505730  \n",
      "7        7.7              PG      USA -59.192738  \n",
      "17       7.8           PG-13      USA -77.810499  \n",
      "39       7.7              PG   France -79.860848  \n",
      "22       7.5              PG      USA -96.179906  \n",
      "\n",
      "[11 rows x 63 columns]\n"
     ]
    }
   ],
   "source": [
    "#Find the movies with negative profit\n",
    "\n",
    "movies_with_negative_profit = df[df['Profit'] < 0]\n",
    "print(movies_with_negative_profit)"
   ]
  },
  {
   "cell_type": "markdown",
   "metadata": {
    "id": "vST8TAqZV6jz"
   },
   "source": [
    "**`Checkpoint 1:`** Can you spot the movie `Tangled` in the dataset? You may be aware of the movie 'Tangled'. Although its one of the highest grossing movies of all time, it has negative profit as per this result. If you cross check the gross values of this movie (link: https://www.imdb.com/title/tt0398286/), you can see that the gross in the dataset accounts only for the domestic gross and not the worldwide gross. This is true for may other movies also in the list."
   ]
  },
  {
   "cell_type": "markdown",
   "metadata": {
    "id": "efXDS0t4V6jz"
   },
   "source": [
    "- ### Subtask 2.3: The General Audience and the Critics\n",
    "\n",
    "You might have noticed the column `MetaCritic` in this dataset. This is a very popular website where an average score is determined through the scores given by the top-rated critics. Second, you also have another column `IMDb_rating` which tells you the IMDb rating of a movie. This rating is determined by taking the average of hundred-thousands of ratings from the general audience.\n",
    "\n",
    "As a part of this subtask, you are required to find out the highest rated movies which have been liked by critics and audiences alike.\n",
    "1. Firstly you will notice that the `MetaCritic` score is on a scale of `100` whereas the `IMDb_rating` is on a scale of 10. First convert the `MetaCritic` column to a scale of 10.\n",
    "2. Now, to find out the movies which have been liked by both critics and audiences alike and also have a high rating overall, you need to -\n",
    "    - Create a new column `Avg_rating` which will have the average of the `MetaCritic` and `Rating` columns\n",
    "    - Retain only the movies in which the absolute difference(using abs() function) between the `IMDb_rating` and `Metacritic` columns is less than 0.5. Refer to this link to know how abs() funtion works - https://www.geeksforgeeks.org/abs-in-python/ .\n",
    "    - Sort these values in a descending order of `Avg_rating` and retain only the movies with a rating equal to higher than `8` and store these movies in a new dataframe `UniversalAcclaim`.\n",
    "    "
   ]
  },
  {
   "cell_type": "code",
   "execution_count": 16,
   "metadata": {
    "id": "Kp0_uifsV6j0"
   },
   "outputs": [
    {
     "name": "stdout",
     "output_type": "stream",
     "text": [
      "                                         Title  title_year  budget  \\\n",
      "97  Star Wars: Episode VII - The Force Awakens        2015   245.0   \n",
      "11                                The Avengers        2012   220.0   \n",
      "47                                    Deadpool        2016    58.0   \n",
      "32             The Hunger Games: Catching Fire        2013   130.0   \n",
      "12                                 Toy Story 3        2010   200.0   \n",
      "..                                         ...         ...     ...   \n",
      "46                 Scott Pilgrim vs. the World        2010    60.0   \n",
      "7                                      Tangled        2010   260.0   \n",
      "17                            Edge of Tomorrow        2014   178.0   \n",
      "39                           The Little Prince        2015    81.2   \n",
      "22                                        Hugo        2011   170.0   \n",
      "\n",
      "         Gross         actor_1_name       actor_2_name           actor_3_name  \\\n",
      "97  936.662225          Doug Walker         Rob Walker                      0   \n",
      "11  623.279547      Chris Hemsworth  Robert Downey Jr.     Scarlett Johansson   \n",
      "47  363.024263        Ryan Reynolds          Ed Skrein         Stefan Kapicic   \n",
      "32  424.645577    Jennifer Lawrence    Josh Hutcherson  Sandra Ellis Lafferty   \n",
      "12  414.984497            Tom Hanks  John Ratzenberger            Don Rickles   \n",
      "..         ...                  ...                ...                    ...   \n",
      "46   31.494270        Anna Kendrick      Kieran Culkin             Ellen Wong   \n",
      "7   200.807262         Brad Garrett       Donna Murphy            M.C. Gainey   \n",
      "17  100.189501           Tom Cruise        Lara Pulver            Noah Taylor   \n",
      "39    1.339152         Jeff Bridges       James Franco          Mackenzie Foy   \n",
      "22   73.820094  ChloÃ« Grace Moretz    Christopher Lee           Ray Winstone   \n",
      "\n",
      "    actor_1_facebook_likes  actor_2_facebook_likes  actor_3_facebook_likes  \\\n",
      "97                     131                    12.0                     0.0   \n",
      "11                   26000                 21000.0                 19000.0   \n",
      "47                   16000                   805.0                   361.0   \n",
      "32                   34000                 14000.0                   523.0   \n",
      "12                   15000                  1000.0                   721.0   \n",
      "..                     ...                     ...                     ...   \n",
      "46                   10000                  1000.0                   719.0   \n",
      "7                      799                   553.0                   284.0   \n",
      "17                   10000                   854.0                   509.0   \n",
      "39                   12000                 11000.0                  6000.0   \n",
      "22                   17000                 16000.0                  1000.0   \n",
      "\n",
      "    ...  Votes3044F Votes45A Votes45AM Votes45AF  Votes1000  VotesUS  \\\n",
      "97  ...         8.2      7.9       7.8       8.2        7.7      8.2   \n",
      "11  ...         8.1      7.9       7.9       8.1        7.4      8.3   \n",
      "47  ...         7.9      7.8       7.8       7.9        7.3      8.1   \n",
      "32  ...         7.9      7.3       7.2       7.9        6.7      7.7   \n",
      "12  ...         8.3      8.1       8.1       8.1        8.1      8.5   \n",
      "..  ...         ...      ...       ...       ...        ...      ...   \n",
      "46  ...         7.2      7.1       7.1       7.0        6.6      7.8   \n",
      "7   ...         8.0      7.7       7.6       7.9        6.9      7.9   \n",
      "17  ...         7.7      7.8       7.8       7.8        7.5      8.0   \n",
      "39  ...         7.9      7.5       7.4       7.9        6.6      7.7   \n",
      "22  ...         7.4      7.5       7.5       7.6        7.4      7.7   \n",
      "\n",
      "    VotesnUS  content_rating  Country      Profit  \n",
      "97       7.9           PG-13      USA  691.662225  \n",
      "11       7.9           PG-13      USA  403.279547  \n",
      "47       7.9               R      USA  305.024263  \n",
      "32       7.4           PG-13      USA  294.645577  \n",
      "12       8.3               G      USA  214.984497  \n",
      "..       ...             ...      ...         ...  \n",
      "46       7.4           PG-13      USA  -28.505730  \n",
      "7        7.7              PG      USA  -59.192738  \n",
      "17       7.8           PG-13      USA  -77.810499  \n",
      "39       7.7              PG   France  -79.860848  \n",
      "22       7.5              PG      USA  -96.179906  \n",
      "\n",
      "[100 rows x 63 columns]\n"
     ]
    }
   ],
   "source": [
    "# Change the scale of MetaCritic\n",
    "\n",
    "scale_factor = 10\n",
    "df['MetaCritic'] = df['MetaCritic'] * scale_factor\n",
    "print(df)"
   ]
  },
  {
   "cell_type": "code",
   "execution_count": 20,
   "metadata": {
    "id": "1_vPnSQuV6j0"
   },
   "outputs": [
    {
     "data": {
      "text/plain": [
       "97    409.05\n",
       "11    349.05\n",
       "47    329.00\n",
       "32    383.80\n",
       "12    464.15\n",
       "       ...  \n",
       "46    348.75\n",
       "7     358.90\n",
       "17    358.95\n",
       "39    353.90\n",
       "22    418.75\n",
       "Name: Avg_rating, Length: 100, dtype: float64"
      ]
     },
     "execution_count": 20,
     "metadata": {},
     "output_type": "execute_result"
    }
   ],
   "source": [
    "# Find the average ratings\n",
    "\n",
    "df['Avg_rating'] = df[['MetaCritic', 'IMDb_rating']].mean(axis=1)\n",
    "df['Avg_rating']"
   ]
  },
  {
   "cell_type": "code",
   "execution_count": 21,
   "metadata": {
    "id": "3J5ffqJeV6j0"
   },
   "outputs": [
    {
     "data": {
      "text/html": [
       "<div>\n",
       "<style scoped>\n",
       "    .dataframe tbody tr th:only-of-type {\n",
       "        vertical-align: middle;\n",
       "    }\n",
       "\n",
       "    .dataframe tbody tr th {\n",
       "        vertical-align: top;\n",
       "    }\n",
       "\n",
       "    .dataframe thead th {\n",
       "        text-align: right;\n",
       "    }\n",
       "</style>\n",
       "<table border=\"1\" class=\"dataframe\">\n",
       "  <thead>\n",
       "    <tr style=\"text-align: right;\">\n",
       "      <th></th>\n",
       "      <th>Title</th>\n",
       "      <th>title_year</th>\n",
       "      <th>budget</th>\n",
       "      <th>Gross</th>\n",
       "      <th>actor_1_name</th>\n",
       "      <th>actor_2_name</th>\n",
       "      <th>actor_3_name</th>\n",
       "      <th>actor_1_facebook_likes</th>\n",
       "      <th>actor_2_facebook_likes</th>\n",
       "      <th>actor_3_facebook_likes</th>\n",
       "      <th>...</th>\n",
       "      <th>Votes45A</th>\n",
       "      <th>Votes45AM</th>\n",
       "      <th>Votes45AF</th>\n",
       "      <th>Votes1000</th>\n",
       "      <th>VotesUS</th>\n",
       "      <th>VotesnUS</th>\n",
       "      <th>content_rating</th>\n",
       "      <th>Country</th>\n",
       "      <th>Profit</th>\n",
       "      <th>Avg_rating</th>\n",
       "    </tr>\n",
       "  </thead>\n",
       "  <tbody>\n",
       "    <tr>\n",
       "      <th>94</th>\n",
       "      <td>Boyhood</td>\n",
       "      <td>2014</td>\n",
       "      <td>4.0</td>\n",
       "      <td>25.359200</td>\n",
       "      <td>Ellar Coltrane</td>\n",
       "      <td>Lorelei Linklater</td>\n",
       "      <td>Libby Villari</td>\n",
       "      <td>230</td>\n",
       "      <td>193.0</td>\n",
       "      <td>127.0</td>\n",
       "      <td>...</td>\n",
       "      <td>7.7</td>\n",
       "      <td>7.7</td>\n",
       "      <td>7.7</td>\n",
       "      <td>7.2</td>\n",
       "      <td>8.0</td>\n",
       "      <td>7.9</td>\n",
       "      <td>R</td>\n",
       "      <td>USA</td>\n",
       "      <td>21.359200</td>\n",
       "      <td>503.95</td>\n",
       "    </tr>\n",
       "    <tr>\n",
       "      <th>69</th>\n",
       "      <td>12 Years a Slave</td>\n",
       "      <td>2013</td>\n",
       "      <td>20.0</td>\n",
       "      <td>56.667870</td>\n",
       "      <td>QuvenzhanÃ© Wallis</td>\n",
       "      <td>Scoot McNairy</td>\n",
       "      <td>Taran Killam</td>\n",
       "      <td>2000</td>\n",
       "      <td>660.0</td>\n",
       "      <td>500.0</td>\n",
       "      <td>...</td>\n",
       "      <td>7.8</td>\n",
       "      <td>7.8</td>\n",
       "      <td>8.1</td>\n",
       "      <td>7.7</td>\n",
       "      <td>8.3</td>\n",
       "      <td>8.0</td>\n",
       "      <td>R</td>\n",
       "      <td>USA</td>\n",
       "      <td>36.667870</td>\n",
       "      <td>484.05</td>\n",
       "    </tr>\n",
       "    <tr>\n",
       "      <th>4</th>\n",
       "      <td>Manchester by the Sea</td>\n",
       "      <td>2016</td>\n",
       "      <td>9.0</td>\n",
       "      <td>47.695371</td>\n",
       "      <td>Casey Affleck</td>\n",
       "      <td>Michelle Williams</td>\n",
       "      <td>Kyle Chandler</td>\n",
       "      <td>518</td>\n",
       "      <td>71000.0</td>\n",
       "      <td>3300.0</td>\n",
       "      <td>...</td>\n",
       "      <td>7.6</td>\n",
       "      <td>7.6</td>\n",
       "      <td>7.6</td>\n",
       "      <td>7.1</td>\n",
       "      <td>7.9</td>\n",
       "      <td>7.8</td>\n",
       "      <td>R</td>\n",
       "      <td>USA</td>\n",
       "      <td>38.695371</td>\n",
       "      <td>483.95</td>\n",
       "    </tr>\n",
       "    <tr>\n",
       "      <th>34</th>\n",
       "      <td>Gravity</td>\n",
       "      <td>2013</td>\n",
       "      <td>100.0</td>\n",
       "      <td>274.084951</td>\n",
       "      <td>Phaldut Sharma</td>\n",
       "      <td>Basher Savage</td>\n",
       "      <td>Amy Warren</td>\n",
       "      <td>39</td>\n",
       "      <td>23.0</td>\n",
       "      <td>13.0</td>\n",
       "      <td>...</td>\n",
       "      <td>7.7</td>\n",
       "      <td>7.7</td>\n",
       "      <td>7.5</td>\n",
       "      <td>7.5</td>\n",
       "      <td>7.9</td>\n",
       "      <td>7.8</td>\n",
       "      <td>PG-13</td>\n",
       "      <td>UK</td>\n",
       "      <td>174.084951</td>\n",
       "      <td>483.90</td>\n",
       "    </tr>\n",
       "    <tr>\n",
       "      <th>53</th>\n",
       "      <td>The Social Network</td>\n",
       "      <td>2010</td>\n",
       "      <td>40.0</td>\n",
       "      <td>96.917897</td>\n",
       "      <td>Andrew Garfield</td>\n",
       "      <td>Dustin Fitzsimons</td>\n",
       "      <td>Marcella Lentz-Pope</td>\n",
       "      <td>10000</td>\n",
       "      <td>349.0</td>\n",
       "      <td>81.0</td>\n",
       "      <td>...</td>\n",
       "      <td>7.5</td>\n",
       "      <td>7.5</td>\n",
       "      <td>7.4</td>\n",
       "      <td>7.3</td>\n",
       "      <td>8.0</td>\n",
       "      <td>7.6</td>\n",
       "      <td>PG-13</td>\n",
       "      <td>USA</td>\n",
       "      <td>56.917897</td>\n",
       "      <td>478.85</td>\n",
       "    </tr>\n",
       "    <tr>\n",
       "      <th>...</th>\n",
       "      <td>...</td>\n",
       "      <td>...</td>\n",
       "      <td>...</td>\n",
       "      <td>...</td>\n",
       "      <td>...</td>\n",
       "      <td>...</td>\n",
       "      <td>...</td>\n",
       "      <td>...</td>\n",
       "      <td>...</td>\n",
       "      <td>...</td>\n",
       "      <td>...</td>\n",
       "      <td>...</td>\n",
       "      <td>...</td>\n",
       "      <td>...</td>\n",
       "      <td>...</td>\n",
       "      <td>...</td>\n",
       "      <td>...</td>\n",
       "      <td>...</td>\n",
       "      <td>...</td>\n",
       "      <td>...</td>\n",
       "      <td>...</td>\n",
       "    </tr>\n",
       "    <tr>\n",
       "      <th>16</th>\n",
       "      <td>The Hobbit: An Unexpected Journey</td>\n",
       "      <td>2012</td>\n",
       "      <td>180.0</td>\n",
       "      <td>303.001229</td>\n",
       "      <td>Aidan Turner</td>\n",
       "      <td>Adam Brown</td>\n",
       "      <td>James Nesbitt</td>\n",
       "      <td>5000</td>\n",
       "      <td>972.0</td>\n",
       "      <td>773.0</td>\n",
       "      <td>...</td>\n",
       "      <td>7.7</td>\n",
       "      <td>7.6</td>\n",
       "      <td>8.0</td>\n",
       "      <td>7.5</td>\n",
       "      <td>7.8</td>\n",
       "      <td>7.8</td>\n",
       "      <td>PG-13</td>\n",
       "      <td>USA</td>\n",
       "      <td>123.001229</td>\n",
       "      <td>7.90</td>\n",
       "    </tr>\n",
       "    <tr>\n",
       "      <th>88</th>\n",
       "      <td>About Time</td>\n",
       "      <td>2013</td>\n",
       "      <td>12.0</td>\n",
       "      <td>15.294553</td>\n",
       "      <td>Tom Hughes</td>\n",
       "      <td>Tom Hollander</td>\n",
       "      <td>Lindsay Duncan</td>\n",
       "      <td>565</td>\n",
       "      <td>555.0</td>\n",
       "      <td>171.0</td>\n",
       "      <td>...</td>\n",
       "      <td>7.6</td>\n",
       "      <td>7.5</td>\n",
       "      <td>7.8</td>\n",
       "      <td>6.9</td>\n",
       "      <td>7.8</td>\n",
       "      <td>7.7</td>\n",
       "      <td>R</td>\n",
       "      <td>UK</td>\n",
       "      <td>3.294553</td>\n",
       "      <td>7.80</td>\n",
       "    </tr>\n",
       "    <tr>\n",
       "      <th>82</th>\n",
       "      <td>Flipped</td>\n",
       "      <td>2010</td>\n",
       "      <td>14.0</td>\n",
       "      <td>1.752214</td>\n",
       "      <td>Madeline Carroll</td>\n",
       "      <td>Rebecca De Mornay</td>\n",
       "      <td>Aidan Quinn</td>\n",
       "      <td>1000</td>\n",
       "      <td>872.0</td>\n",
       "      <td>767.0</td>\n",
       "      <td>...</td>\n",
       "      <td>7.4</td>\n",
       "      <td>7.3</td>\n",
       "      <td>7.6</td>\n",
       "      <td>6.4</td>\n",
       "      <td>7.5</td>\n",
       "      <td>7.7</td>\n",
       "      <td>PG</td>\n",
       "      <td>USA</td>\n",
       "      <td>-12.247786</td>\n",
       "      <td>7.70</td>\n",
       "    </tr>\n",
       "    <tr>\n",
       "      <th>71</th>\n",
       "      <td>The Book Thief</td>\n",
       "      <td>2013</td>\n",
       "      <td>19.0</td>\n",
       "      <td>21.483154</td>\n",
       "      <td>Emily Watson</td>\n",
       "      <td>Sophie NÃ©lisse</td>\n",
       "      <td>Roger Allam</td>\n",
       "      <td>876</td>\n",
       "      <td>526.0</td>\n",
       "      <td>326.0</td>\n",
       "      <td>...</td>\n",
       "      <td>7.6</td>\n",
       "      <td>7.5</td>\n",
       "      <td>8.0</td>\n",
       "      <td>6.6</td>\n",
       "      <td>7.6</td>\n",
       "      <td>7.5</td>\n",
       "      <td>PG-13</td>\n",
       "      <td>USA</td>\n",
       "      <td>2.483154</td>\n",
       "      <td>7.60</td>\n",
       "    </tr>\n",
       "    <tr>\n",
       "      <th>52</th>\n",
       "      <td>Lone Survivor</td>\n",
       "      <td>2013</td>\n",
       "      <td>40.0</td>\n",
       "      <td>125.069696</td>\n",
       "      <td>Jerry Ferrara</td>\n",
       "      <td>Scott Elrod</td>\n",
       "      <td>Dan Bilzerian</td>\n",
       "      <td>480</td>\n",
       "      <td>449.0</td>\n",
       "      <td>127.0</td>\n",
       "      <td>...</td>\n",
       "      <td>7.5</td>\n",
       "      <td>7.4</td>\n",
       "      <td>7.8</td>\n",
       "      <td>6.8</td>\n",
       "      <td>7.8</td>\n",
       "      <td>7.3</td>\n",
       "      <td>R</td>\n",
       "      <td>USA</td>\n",
       "      <td>85.069696</td>\n",
       "      <td>7.50</td>\n",
       "    </tr>\n",
       "  </tbody>\n",
       "</table>\n",
       "<p>100 rows × 64 columns</p>\n",
       "</div>"
      ],
      "text/plain": [
       "                                Title  title_year  budget       Gross  \\\n",
       "94                            Boyhood        2014     4.0   25.359200   \n",
       "69                   12 Years a Slave        2013    20.0   56.667870   \n",
       "4               Manchester by the Sea        2016     9.0   47.695371   \n",
       "34                            Gravity        2013   100.0  274.084951   \n",
       "53                 The Social Network        2010    40.0   96.917897   \n",
       "..                                ...         ...     ...         ...   \n",
       "16  The Hobbit: An Unexpected Journey        2012   180.0  303.001229   \n",
       "88                         About Time        2013    12.0   15.294553   \n",
       "82                            Flipped        2010    14.0    1.752214   \n",
       "71                     The Book Thief        2013    19.0   21.483154   \n",
       "52                      Lone Survivor        2013    40.0  125.069696   \n",
       "\n",
       "          actor_1_name        actor_2_name         actor_3_name  \\\n",
       "94      Ellar Coltrane   Lorelei Linklater        Libby Villari   \n",
       "69  QuvenzhanÃ© Wallis       Scoot McNairy         Taran Killam   \n",
       "4        Casey Affleck  Michelle Williams         Kyle Chandler   \n",
       "34      Phaldut Sharma       Basher Savage           Amy Warren   \n",
       "53     Andrew Garfield   Dustin Fitzsimons  Marcella Lentz-Pope   \n",
       "..                 ...                 ...                  ...   \n",
       "16        Aidan Turner          Adam Brown        James Nesbitt   \n",
       "88          Tom Hughes       Tom Hollander       Lindsay Duncan   \n",
       "82    Madeline Carroll   Rebecca De Mornay          Aidan Quinn   \n",
       "71        Emily Watson     Sophie NÃ©lisse          Roger Allam   \n",
       "52       Jerry Ferrara         Scott Elrod        Dan Bilzerian   \n",
       "\n",
       "    actor_1_facebook_likes  actor_2_facebook_likes  actor_3_facebook_likes  \\\n",
       "94                     230                   193.0                   127.0   \n",
       "69                    2000                   660.0                   500.0   \n",
       "4                      518                 71000.0                  3300.0   \n",
       "34                      39                    23.0                    13.0   \n",
       "53                   10000                   349.0                    81.0   \n",
       "..                     ...                     ...                     ...   \n",
       "16                    5000                   972.0                   773.0   \n",
       "88                     565                   555.0                   171.0   \n",
       "82                    1000                   872.0                   767.0   \n",
       "71                     876                   526.0                   326.0   \n",
       "52                     480                   449.0                   127.0   \n",
       "\n",
       "    ...  Votes45A Votes45AM Votes45AF Votes1000  VotesUS  VotesnUS  \\\n",
       "94  ...       7.7       7.7       7.7       7.2      8.0       7.9   \n",
       "69  ...       7.8       7.8       8.1       7.7      8.3       8.0   \n",
       "4   ...       7.6       7.6       7.6       7.1      7.9       7.8   \n",
       "34  ...       7.7       7.7       7.5       7.5      7.9       7.8   \n",
       "53  ...       7.5       7.5       7.4       7.3      8.0       7.6   \n",
       "..  ...       ...       ...       ...       ...      ...       ...   \n",
       "16  ...       7.7       7.6       8.0       7.5      7.8       7.8   \n",
       "88  ...       7.6       7.5       7.8       6.9      7.8       7.7   \n",
       "82  ...       7.4       7.3       7.6       6.4      7.5       7.7   \n",
       "71  ...       7.6       7.5       8.0       6.6      7.6       7.5   \n",
       "52  ...       7.5       7.4       7.8       6.8      7.8       7.3   \n",
       "\n",
       "    content_rating  Country      Profit  Avg_rating  \n",
       "94               R      USA   21.359200      503.95  \n",
       "69               R      USA   36.667870      484.05  \n",
       "4                R      USA   38.695371      483.95  \n",
       "34           PG-13       UK  174.084951      483.90  \n",
       "53           PG-13      USA   56.917897      478.85  \n",
       "..             ...      ...         ...         ...  \n",
       "16           PG-13      USA  123.001229        7.90  \n",
       "88               R       UK    3.294553        7.80  \n",
       "82              PG      USA  -12.247786        7.70  \n",
       "71           PG-13      USA    2.483154        7.60  \n",
       "52               R      USA   85.069696        7.50  \n",
       "\n",
       "[100 rows x 64 columns]"
      ]
     },
     "execution_count": 21,
     "metadata": {},
     "output_type": "execute_result"
    }
   ],
   "source": [
    "#Sort in descending order of average rating\n",
    "\n",
    "df_sorted = df.sort_values(by='Avg_rating', ascending=False)\n",
    "df_sorted"
   ]
  },
  {
   "cell_type": "code",
   "execution_count": 22,
   "metadata": {
    "id": "dopWOqUyV6j0"
   },
   "outputs": [
    {
     "data": {
      "text/html": [
       "<div>\n",
       "<style scoped>\n",
       "    .dataframe tbody tr th:only-of-type {\n",
       "        vertical-align: middle;\n",
       "    }\n",
       "\n",
       "    .dataframe tbody tr th {\n",
       "        vertical-align: top;\n",
       "    }\n",
       "\n",
       "    .dataframe thead th {\n",
       "        text-align: right;\n",
       "    }\n",
       "</style>\n",
       "<table border=\"1\" class=\"dataframe\">\n",
       "  <thead>\n",
       "    <tr style=\"text-align: right;\">\n",
       "      <th></th>\n",
       "      <th>Title</th>\n",
       "      <th>title_year</th>\n",
       "      <th>budget</th>\n",
       "      <th>Gross</th>\n",
       "      <th>actor_1_name</th>\n",
       "      <th>actor_2_name</th>\n",
       "      <th>actor_3_name</th>\n",
       "      <th>actor_1_facebook_likes</th>\n",
       "      <th>actor_2_facebook_likes</th>\n",
       "      <th>actor_3_facebook_likes</th>\n",
       "      <th>...</th>\n",
       "      <th>Votes45A</th>\n",
       "      <th>Votes45AM</th>\n",
       "      <th>Votes45AF</th>\n",
       "      <th>Votes1000</th>\n",
       "      <th>VotesUS</th>\n",
       "      <th>VotesnUS</th>\n",
       "      <th>content_rating</th>\n",
       "      <th>Country</th>\n",
       "      <th>Profit</th>\n",
       "      <th>Avg_rating</th>\n",
       "    </tr>\n",
       "  </thead>\n",
       "  <tbody>\n",
       "  </tbody>\n",
       "</table>\n",
       "<p>0 rows × 64 columns</p>\n",
       "</div>"
      ],
      "text/plain": [
       "Empty DataFrame\n",
       "Columns: [Title, title_year, budget, Gross, actor_1_name, actor_2_name, actor_3_name, actor_1_facebook_likes, actor_2_facebook_likes, actor_3_facebook_likes, IMDb_rating, genre_1, genre_2, genre_3, MetaCritic, Runtime, CVotes10, CVotes09, CVotes08, CVotes07, CVotes06, CVotes05, CVotes04, CVotes03, CVotes02, CVotes01, CVotesMale, CVotesFemale, CVotesU18, CVotesU18M, CVotesU18F, CVotes1829, CVotes1829M, CVotes1829F, CVotes3044, CVotes3044M, CVotes3044F, CVotes45A, CVotes45AM, CVotes45AF, CVotes1000, CVotesUS, CVotesnUS, VotesM, VotesF, VotesU18, VotesU18M, VotesU18F, Votes1829, Votes1829M, Votes1829F, Votes3044, Votes3044M, Votes3044F, Votes45A, Votes45AM, Votes45AF, Votes1000, VotesUS, VotesnUS, content_rating, Country, Profit, Avg_rating]\n",
       "Index: []\n",
       "\n",
       "[0 rows x 64 columns]"
      ]
     },
     "execution_count": 22,
     "metadata": {},
     "output_type": "execute_result"
    }
   ],
   "source": [
    "# filtered_movies = df_sorted[(df_sorted['MetaCritic'] < 0.5) & (df_sorted['AverageRating'] >= 8)]\n",
    "\n",
    "\n",
    "\n",
    "filtered_movies = df_sorted[(df_sorted['MetaCritic'] < 0.5) & (df_sorted['Avg_rating'] >= 8)]\n",
    "filtered_movies"
   ]
  },
  {
   "cell_type": "markdown",
   "metadata": {
    "id": "2bqE5LZ-V6j0"
   },
   "source": [
    "**`Checkpoint 2:`** Can you spot a `Star Wars` movie in your final dataset?"
   ]
  },
  {
   "cell_type": "markdown",
   "metadata": {
    "id": "_Dg1d7D-V6j0"
   },
   "source": [
    "- ### Subtask 2.4: Find the Most Popular Trios - I\n",
    "\n",
    "You're a producer looking to make a blockbuster movie. There will primarily be three lead roles in your movie and you wish to cast the most popular actors for it. Now, since you don't want to take a risk, you will cast a trio which has already acted in together in a movie before. The metric that you've chosen to check the popularity is the Facebook likes of each of these actors.\n",
    "\n",
    "The dataframe has three columns to help you out for the same, viz. `actor_1_facebook_likes`, `actor_2_facebook_likes`, and `actor_3_facebook_likes`. Your objective is to find the trios which has the most number of Facebook likes combined. That is, the sum of `actor_1_facebook_likes`, `actor_2_facebook_likes` and `actor_3_facebook_likes` should be maximum.\n",
    "Find out the top 5 popular trios, and output their names in a list.\n"
   ]
  },
  {
   "cell_type": "code",
   "execution_count": 23,
   "metadata": {
    "id": "i4H-05QpV6j1"
   },
   "outputs": [
    {
     "name": "stdout",
     "output_type": "stream",
     "text": [
      "[[33000.0, 96000.0, 9800.0], [29000.0, 27000.0, 23000.0], [34000.0, 22000.0, 20000.0], [518.0, 71000.0, 3300.0], [27000.0, 23000.0, 23000.0]]\n"
     ]
    }
   ],
   "source": [
    "# Write your code here\n",
    "\n",
    "df['total_facebook_likes'] = df[['actor_1_facebook_likes', 'actor_2_facebook_likes', 'actor_3_facebook_likes']].sum(axis=1)\n",
    "df_sorted = df.sort_values(by='total_facebook_likes', ascending=False)\n",
    "top_5_trios = df_sorted[['actor_1_facebook_likes', 'actor_2_facebook_likes', 'actor_3_facebook_likes']].head(5).values.tolist()\n",
    "print(top_5_trios)"
   ]
  },
  {
   "cell_type": "markdown",
   "metadata": {
    "id": "43a80AdwV6j1"
   },
   "source": [
    "- ### Subtask 2.5: Find the Most Popular Trios - II\n",
    "\n",
    "In the previous subtask you found the popular trio based on the total number of facebook likes. Let's add a small condition to it and make sure that all three actors are popular. The condition is **none of the three actors' Facebook likes should be less than half of the other two**. For example, the following is a valid combo:\n",
    "- actor_1_facebook_likes: 70000\n",
    "- actor_2_facebook_likes: 40000\n",
    "- actor_3_facebook_likes: 50000\n",
    "\n",
    "But the below one is not:\n",
    "- actor_1_facebook_likes: 70000\n",
    "- actor_2_facebook_likes: 40000\n",
    "- actor_3_facebook_likes: 30000\n",
    "\n",
    "since in this case, `actor_3_facebook_likes` is 30000, which is less than half of `actor_1_facebook_likes`.\n",
    "\n",
    "Having this condition ensures that you aren't getting any unpopular actor in your trio (since the total likes calculated in the previous question doesn't tell anything about the individual popularities of each actor in the trio.).\n",
    "\n",
    "You can do a manual inspection of the top 5 popular trios you have found in the previous subtask and check how many of those trios satisfy this condition. Also, which is the most popular trio after applying the condition above?"
   ]
  },
  {
   "cell_type": "markdown",
   "metadata": {
    "id": "GxQtyrpwV6j1"
   },
   "source": [
    "**Write your answers below.**\n",
    "\n",
    "- **`No. of trios that satisfy the above condition:`**\n",
    "\n",
    "- **`Most popular trio after applying the condition:`**"
   ]
  },
  {
   "cell_type": "markdown",
   "metadata": {
    "id": "C5FQvpWCV6j1"
   },
   "source": [
    "**`Optional:`** Even though you are finding this out by a natural inspection of the dataframe, can you also achieve this through some *if-else* statements to incorporate this. You can try this out on your own time after you are done with the assignment."
   ]
  },
  {
   "cell_type": "code",
   "execution_count": null,
   "metadata": {
    "id": "b2veSIYfV6j2"
   },
   "outputs": [],
   "source": [
    "# Your answer here (optional)\n",
    "\n"
   ]
  },
  {
   "cell_type": "markdown",
   "metadata": {
    "id": "aSwae-fnV6j2"
   },
   "source": [
    "- ### Subtask 2.6: Runtime Analysis\n",
    "\n",
    "There is a column named `Runtime` in the dataframe which primarily shows the length of the movie. It might be intersting to see how this variable this distributed. Plot a `histogram` or `distplot` of seaborn to find the `Runtime` range most of the movies fall into."
   ]
  },
  {
   "cell_type": "code",
   "execution_count": 24,
   "metadata": {
    "id": "3KHO9nSQV6j2"
   },
   "outputs": [
    {
     "data": {
      "image/png": "[encoded data removed]",
      "text/plain": [
       "<Figure size 1000x600 with 1 Axes>"
      ]
     },
     "metadata": {},
     "output_type": "display_data"
    }
   ],
   "source": [
    "# Runtime histogram/density plot\n",
    "plt.figure(figsize=(10, 6))\n",
    "sns.histplot(df['Runtime'], kde=True, color='blue')\n",
    "plt.title('Distribution of Movie Runtimes')\n",
    "plt.xlabel('Runtime (minutes)')\n",
    "plt.ylabel('Frequency')\n",
    "plt.show()"
   ]
  },
  {
   "cell_type": "markdown",
   "metadata": {
    "id": "Pr9OAJ3ZV6j3"
   },
   "source": [
    "**`Checkpoint 3:`** Most of the movies appear to be sharply 2 hour-long."
   ]
  },
  {
   "cell_type": "markdown",
   "metadata": {
    "id": "688AzvLtV6j3"
   },
   "source": [
    "- ### Subtask 2.7: R-Rated Movies\n",
    "\n",
    "Although R rated movies are restricted movies for the under 18 age group, still there are vote counts from that age group. Among all the R rated movies that have been voted by the under-18 age group, find the top 10 movies that have the highest number of votes i.e.`CVotesU18` from the `movies` dataframe. Store these in a dataframe named `PopularR`."
   ]
  },
  {
   "cell_type": "code",
   "execution_count": 31,
   "metadata": {
    "id": "BqWiUzT_V6j4"
   },
   "outputs": [
    {
     "name": "stdout",
     "output_type": "stream",
     "text": [
      "                                              Title  title_year  budget  \\\n",
      "47                                         Deadpool        2016    58.0   \n",
      "36                          The Wolf of Wall Street        2013   100.0   \n",
      "35                                 Django Unchained        2012   100.0   \n",
      "29                               Mad Max: Fury Road        2015   150.0   \n",
      "95                                         Whiplash        2014     3.3   \n",
      "31                                     The Revenant        2015   135.0   \n",
      "40                                   Shutter Island        2010    80.0   \n",
      "43                                        Gone Girl        2014    61.0   \n",
      "65                         The Grand Budapest Hotel        2014    25.0   \n",
      "72  Birdman or (The Unexpected Virtue of Ignorance)        2014    18.0   \n",
      "\n",
      "         Gross       actor_1_name         actor_2_name       actor_3_name  \\\n",
      "47  363.024263      Ryan Reynolds            Ed Skrein     Stefan Kapicic   \n",
      "36  116.866727  Leonardo DiCaprio  Matthew McConaughey        Jon Favreau   \n",
      "35  162.804648  Leonardo DiCaprio      Christoph Waltz       Ato Essandoh   \n",
      "29  153.629485          Tom Hardy      Charlize Theron       ZoÃ« Kravitz   \n",
      "95   13.092000       J.K. Simmons      Melissa Benoist       Chris Mulkey   \n",
      "31  183.635922  Leonardo DiCaprio            Tom Hardy         Lukas Haas   \n",
      "40  127.968405  Leonardo DiCaprio        Joseph Sikora     Nellie Sciutto   \n",
      "43  167.735396      Patrick Fugit            Sela Ward  Emily Ratajkowski   \n",
      "65   59.073773        Bill Murray        Tom Wilkinson  F. Murray Abraham   \n",
      "72   42.335698         Emma Stone          Naomi Watts      Merritt Wever   \n",
      "\n",
      "    actor_1_facebook_likes  actor_2_facebook_likes  actor_3_facebook_likes  \\\n",
      "47                   16000                   805.0                   361.0   \n",
      "36                   29000                 11000.0                  4000.0   \n",
      "35                   29000                 11000.0                   265.0   \n",
      "29                   27000                  9000.0                   943.0   \n",
      "95                   24000                   970.0                   535.0   \n",
      "31                   29000                 27000.0                   733.0   \n",
      "40                   29000                   223.0                   163.0   \n",
      "43                     835                   812.0                   625.0   \n",
      "65                   13000                  1000.0                   670.0   \n",
      "72                   15000                  6000.0                   529.0   \n",
      "\n",
      "    ...  Votes3044F Votes45A Votes45AM Votes45AF  Votes1000  VotesUS  \\\n",
      "47  ...         7.9      7.8       7.8       7.9        7.3      8.1   \n",
      "36  ...         7.7      7.6       7.6       7.5        7.8      8.1   \n",
      "35  ...         8.3      8.0       8.0       8.1        7.8      8.4   \n",
      "29  ...         7.8      7.5       7.5       7.2        8.0      8.2   \n",
      "95  ...         8.2      8.1       8.1       8.2        8.0      8.6   \n",
      "31  ...         7.7      7.8       7.8       7.8        7.6      8.1   \n",
      "40  ...         8.0      7.5       7.4       7.6        7.6      7.8   \n",
      "43  ...         7.9      7.7       7.7       7.7        7.6      8.1   \n",
      "65  ...         8.0      7.8       7.8       7.9        7.7      8.1   \n",
      "72  ...         7.3      7.2       7.3       7.0        7.1      7.9   \n",
      "\n",
      "    VotesnUS  content_rating    Country      Profit  \n",
      "47       7.9               R        USA  305.024263  \n",
      "36       8.1               R        USA   16.866727  \n",
      "35       8.4               R        USA   62.804648  \n",
      "29       8.0               R  Australia    3.629485  \n",
      "95       8.4               R        USA    9.792000  \n",
      "31       7.9               R        USA   48.635922  \n",
      "40       8.1               R        USA   47.968405  \n",
      "43       8.1               R        USA  106.735396  \n",
      "65       8.0               R        USA   34.073773  \n",
      "72       7.7               R        USA   24.335698  \n",
      "\n",
      "[10 rows x 63 columns]\n"
     ]
    }
   ],
   "source": [
    "# Write your code here\n",
    "movies=df0\n",
    "R_rated_movies = movies[movies['content_rating'] == 'R']\n",
    "PopularR = R_rated_movies.sort_values(by='CVotesU18', ascending=False).head(10)\n",
    "print(PopularR)\n"
   ]
  },
  {
   "cell_type": "markdown",
   "metadata": {
    "id": "M1H5x8IOV6j4"
   },
   "source": [
    "**`Checkpoint 4:`** Are these kids watching `Deadpool` a lot?"
   ]
  },
  {
   "cell_type": "markdown",
   "metadata": {
    "id": "nzNanFeZV6kA"
   },
   "source": []
  },
  {
   "cell_type": "markdown",
   "metadata": {
    "id": "JOOJbnUZV6kA"
   },
   "source": [
    "## Task 3 : Demographic analysis\n",
    "\n",
    "If you take a look at the last columns in the dataframe, most of these are related to demographics of the voters (in the last subtask, i.e., 2.8, you made use one of these columns - CVotesU18). We also have three genre columns indicating the genres of a particular movie. We will extensively use these columns for the third and the final stage of our assignment wherein we will analyse the voters across all demographics and also see how these vary across various genres. So without further ado, let's get started with `demographic analysis`."
   ]
  },
  {
   "cell_type": "markdown",
   "metadata": {
    "id": "e1lfAGWfV6kB"
   },
   "source": [
    "-  ###  Subtask 3.1 Combine the Dataframe by Genres\n",
    "\n",
    "There are 3 columns in the dataframe - `genre_1`, `genre_2`, and `genre_3`. As a part of this subtask, you need to aggregate a few values over these 3 columns.\n",
    "1. First create a new dataframe `df_by_genre` that contains `genre_1`, `genre_2`, and `genre_3` and all the columns related to **CVotes/Votes** from the `movies` data frame. There are 47 columns to be extracted in total.\n",
    "2. Now, Add a column called `cnt` to the dataframe `df_by_genre` and initialize it to one. You will realise the use of this column by the end of this subtask.\n",
    "3. First group the dataframe `df_by_genre` by `genre_1` and find the sum of all the numeric columns such as `cnt`, columns related to CVotes and Votes columns and store it in a dataframe `df_by_g1`.\n",
    "4. Perform the same operation for `genre_2` and `genre_3` and store it dataframes `df_by_g2` and `df_by_g3` respectively.\n",
    "5. Now that you have 3 dataframes performed by grouping over `genre_1`, `genre_2`, and `genre_3` separately, it's time to combine them. For this, add the three dataframes and store it in a new dataframe `df_add`, so that the corresponding values of Votes/CVotes get added for each genre.There is a function called `add()` in pandas which lets you do this. You can refer to this link to see how this function works. https://pandas.pydata.org/pandas-docs/version/0.23.4/generated/pandas.DataFrame.add.html\n",
    "6. The column `cnt` on aggregation has basically kept the track of the number of occurences of each genre.Subset the genres that have atleast 10 movies into a new dataframe `genre_top10` based on the `cnt` column value.\n",
    "7. Now, take the mean of all the numeric columns by dividing them with the column value `cnt` and store it back to the same dataframe. We will be using this dataframe for further analysis in this task unless it is explicitly mentioned to use the dataframe `movies`.\n",
    "8. Since the number of votes can't be a fraction, type cast all the CVotes related columns to integers. Also, round off all the Votes related columns upto two digits after the decimal point.\n"
   ]
  },
  {
   "cell_type": "code",
   "execution_count": 32,
   "metadata": {
    "id": "4U4Or2jNV6kB"
   },
   "outputs": [],
   "source": [
    "# Create the dataframe df_by_genre\n",
    "df_by_genre = movies[['genre_1', 'genre_2', 'genre_3', 'CVotes10', 'CVotes09', 'CVotes08', 'CVotes07', 'CVotes06', 'CVotes05',\n",
    "                  'CVotes04', 'CVotes03', 'CVotes02', 'CVotes01', 'CVotesMale', 'CVotesFemale', 'CVotesU18', 'CVotesU18M',\n",
    "                  'CVotesU18F', 'CVotes1829', 'CVotes1829M', 'CVotes1829F', 'CVotes3044', 'CVotes3044M', 'CVotes3044F',\n",
    "                  'CVotes45A', 'CVotes45AM', 'CVotes45AF', 'CVotes1000', 'CVotesUS', 'CVotesnUS', 'VotesM', 'VotesF', \n",
    "                  'VotesU18', 'VotesU18M', 'VotesU18F', 'Votes1829', 'Votes1829M', 'Votes1829F', 'Votes3044', 'Votes3044M', \n",
    "                  'Votes3044F', 'Votes45A', 'Votes45AM', 'Votes45AF', 'Votes1000', 'VotesUS', 'VotesnUS']]\n"
   ]
  },
  {
   "cell_type": "code",
   "execution_count": 33,
   "metadata": {
    "id": "JyqP1HTRV6kB"
   },
   "outputs": [],
   "source": [
    "# Create a column cnt and initialize it to 1\n",
    "\n",
    "df_by_genre['cnt'] = 1"
   ]
  },
  {
   "cell_type": "code",
   "execution_count": 34,
   "metadata": {
    "id": "yEIThiYDV6kB"
   },
   "outputs": [],
   "source": [
    "# Group the movies by individual genres\n",
    "\n",
    "df_by_g1 = df_by_genre.groupby('genre_1').sum()\n",
    "df_by_g2 = df_by_genre.groupby('genre_2').sum()\n",
    "df_by_g3 = df_by_genre.groupby('genre_3').sum()\n"
   ]
  },
  {
   "cell_type": "code",
   "execution_count": 35,
   "metadata": {
    "id": "zvLhK6wnV6kC"
   },
   "outputs": [],
   "source": [
    "# Add the grouped data frames and store it in a new data frame\n",
    "\n",
    "df_add = df_by_g1.add(df_by_g2, fill_value=0).add(df_by_g3, fill_value=0)"
   ]
  },
  {
   "cell_type": "code",
   "execution_count": 36,
   "metadata": {
    "id": "2_o057CFV6kC"
   },
   "outputs": [],
   "source": [
    "# Extract genres with atleast 10 occurences\n",
    "\n",
    "genre_top10 = df_add[df_add['cnt'] >= 10]"
   ]
  },
  {
   "cell_type": "code",
   "execution_count": 37,
   "metadata": {
    "id": "fT3G76m-V6kC"
   },
   "outputs": [],
   "source": [
    "# Take the mean for every column by dividing with cnt\n",
    "genre_top10.iloc[:, 1:-1] = genre_top10.iloc[:, 1:-1].div(genre_top10['cnt'], axis=0)\n",
    "\n"
   ]
  },
  {
   "cell_type": "code",
   "execution_count": 38,
   "metadata": {
    "id": "28PWAraHV6kC"
   },
   "outputs": [],
   "source": [
    "# Rounding off the columns of Votes to two decimals\n",
    "\n",
    "genre_top10.iloc[:, 43:59]= genre_top10.iloc[:, 43:59].round(2)\n",
    "#43 is used as votes column are start from 17th column in csv file and ends at 59th column"
   ]
  },
  {
   "cell_type": "code",
   "execution_count": 39,
   "metadata": {
    "id": "iK5GIAeEV6kC"
   },
   "outputs": [],
   "source": [
    "# Converting CVotes to int type\n",
    "\n",
    "genre_top10.iloc[:, 17:44] = genre_top10.iloc[:, 17:44].astype(int)"
   ]
  },
  {
   "cell_type": "markdown",
   "metadata": {
    "id": "ULf2GFwbV6kD"
   },
   "source": [
    "If you take a look at the final dataframe that you have gotten, you will see that you now have the complete information about all the demographic (Votes- and CVotes-related) columns across the top 10 genres. We can use this dataset to extract exciting insights about the voters!"
   ]
  },
  {
   "cell_type": "markdown",
   "metadata": {
    "id": "vELwxmIXV6kD"
   },
   "source": [
    "-  ###  Subtask 3.2: Genre Counts!\n",
    "\n",
    "Now let's derive some insights from this data frame. Make a bar chart plotting different genres vs cnt using seaborn."
   ]
  },
  {
   "cell_type": "code",
   "execution_count": 40,
   "metadata": {
    "id": "8ElQAKKJV6kD"
   },
   "outputs": [
    {
     "data": {
      "image/png": "[encoded data removed]",
      "text/plain": [
       "<Figure size 1200x600 with 1 Axes>"
      ]
     },
     "metadata": {},
     "output_type": "display_data"
    }
   ],
   "source": [
    "# Countplot for genres\n",
    "\n",
    "plt.figure(figsize=(12, 6))\n",
    "sns.barplot(x=genre_top10.index, y=genre_top10['cnt'])\n",
    "plt.title('Genre Counts')\n",
    "plt.xlabel('Genres')\n",
    "plt.ylabel('Count')\n",
    "plt.show()"
   ]
  },
  {
   "cell_type": "markdown",
   "metadata": {
    "id": "R51NR_uaV6kD"
   },
   "source": [
    "**`Checkpoint 5:`** Is the bar for `Drama` the tallest?"
   ]
  },
  {
   "cell_type": "markdown",
   "metadata": {
    "id": "lyHD-XnsV6kD"
   },
   "source": [
    "-  ###  Subtask 3.3: Gender and Genre\n",
    "\n",
    "If you have closely looked at the Votes- and CVotes-related columns, you might have noticed the suffixes `F` and `M` indicating Female and Male. Since we have the vote counts for both males and females, across various age groups, let's now see how the popularity of genres vary between the two genders in the dataframe.\n",
    "\n",
    "1. Make the first heatmap to see how the average number of votes of males is varying across the genres. Use seaborn heatmap for this analysis. The X-axis should contain the four age-groups for males, i.e., `CVotesU18M`,`CVotes1829M`, `CVotes3044M`, and `CVotes45AM`. The Y-axis will have the genres and the annotation in the heatmap tell the average number of votes for that age-male group.\n",
    "\n",
    "2. Make the second heatmap to see how the average number of votes of females is varying across the genres. Use seaborn heatmap for this analysis. The X-axis should contain the four age-groups for females, i.e., `CVotesU18F`,`CVotes1829F`, `CVotes3044F`, and `CVotes45AF`. The Y-axis will have the genres and the annotation in the heatmap tell the average number of votes for that age-female group.\n",
    "\n",
    "3. Make sure that you plot these heatmaps side by side using `subplots` so that you can easily compare the two genders and derive insights.\n",
    "\n",
    "4. Write your any three inferences from this plot. You can make use of the previous bar plot also here for better insights.\n",
    "Refer to this link- https://seaborn.pydata.org/generated/seaborn.heatmap.html. You might have to plot something similar to the fifth chart in this page (You have to plot two such heatmaps side by side).\n",
    "\n",
    "5. Repeat subtasks 1 to 4, but now instead of taking the CVotes-related columns, you need to do the same process for the Votes-related columns. These heatmaps will show you how the two genders have rated movies across various genres.\n",
    "\n",
    "You might need the below link for formatting your heatmap.\n",
    "https://stackoverflow.com/questions/56942670/matplotlib-seaborn-first-and-last-row-cut-in-half-of-heatmap-plot\n",
    "\n",
    "-  Note : Use `genre_top10` dataframe for this subtask"
   ]
  },
  {
   "cell_type": "code",
   "execution_count": 42,
   "metadata": {
    "id": "ZJkp3p7xV6kE"
   },
   "outputs": [
    {
     "data": {
      "image/png": "[encoded data removed]",
      "text/plain": [
       "<Figure size 1500x1000 with 4 Axes>"
      ]
     },
     "metadata": {},
     "output_type": "display_data"
    }
   ],
   "source": [
    "# 1st set of heat maps for CVotes-related columns\n",
    "\n",
    "plt.figure(figsize=(15, 10))\n",
    "\n",
    "plt.subplot(1, 2, 1)\n",
    "sns.heatmap(genre_top10[['CVotesU18M', 'CVotes1829M', 'CVotes3044M', 'CVotes45AM']], cmap='coolwarm', annot=True)\n",
    "plt.title('Male Votes Across Genres')\n",
    "plt.xlabel('Age Groups')\n",
    "plt.ylabel('Genres')\n",
    "\n",
    "\n",
    "plt.subplot(1, 2, 2)\n",
    "sns.heatmap(genre_top10[['CVotesU18F', 'CVotes1829F', 'CVotes3044F', 'CVotes45AF']], cmap='coolwarm', annot=True)\n",
    "plt.title('Female Votes Across Genres')\n",
    "plt.xlabel('Age Groups')\n",
    "plt.ylabel('Genres')\n",
    "\n",
    "plt.tight_layout()\n",
    "plt.show()"
   ]
  },
  {
   "cell_type": "markdown",
   "metadata": {
    "id": "bRo-UQQeV6kE"
   },
   "source": [
    "**`Inferences:`** A few inferences that can be seen from the heatmap above is that males have voted more than females, and Sci-Fi appears to be most popular among the 18-29 age group irrespective of their gender. What more can you infer from the two heatmaps that you have plotted? Write your three inferences/observations below:\n",
    "- Inference 1:\n",
    "- Inference 2:\n",
    "- Inference 3:"
   ]
  },
  {
   "cell_type": "code",
   "execution_count": 43,
   "metadata": {
    "id": "Kmvy9-uXV6kE"
   },
   "outputs": [
    {
     "data": {
      "text/plain": [
       "Text(0.5, 1.0, 'Female Ratings Across Genres')"
      ]
     },
     "execution_count": 43,
     "metadata": {},
     "output_type": "execute_result"
    },
    {
     "data": {
      "image/png": "[encoded data removed]",
      "text/plain": [
       "<Figure size 1500x1000 with 4 Axes>"
      ]
     },
     "metadata": {},
     "output_type": "display_data"
    }
   ],
   "source": [
    "# 2nd set of heat maps for Votes-related columns\n",
    "\n",
    "\n",
    "plt.figure(figsize=(15, 10))\n",
    "\n",
    "plt.subplot(1, 2, 1)\n",
    "sns.heatmap(genre_top10[['VotesU18M', 'Votes1829M', 'Votes3044M', 'Votes45AM']], cmap='coolwarm', annot=True, fmt='.2f')\n",
    "plt.title('Male Ratings Across Genres')\n",
    "plt.xlabel('Age Groups')\n",
    "plt.ylabel('Genres')\n",
    "\n",
    "\n",
    "plt.subplot(1, 2, 2)\n",
    "sns.heatmap(genre_top10[['VotesU18F', 'Votes1829F', 'Votes3044F', 'Votes45AF']], cmap='coolwarm', annot=True, fmt='.2f')\n",
    "plt.title('Female Ratings Across Genres')\n"
   ]
  },
  {
   "cell_type": "markdown",
   "metadata": {
    "id": "-bUZ9YT2V6kF"
   },
   "source": [
    "**`Inferences:`** Sci-Fi appears to be the highest rated genre in the age group of U18 for both males and females. Also, females in this age group have rated it a bit higher than the males in the same age group. What more can you infer from the two heatmaps that you have plotted? Write your three inferences/observations below:\n",
    "- Inference 1:\n",
    "- Inference 2:\n",
    "- Inference 3:"
   ]
  },
  {
   "cell_type": "markdown",
   "metadata": {
    "id": "y0JFXxeNV6kF"
   },
   "source": [
    "-  ###  Subtask 3.4: US vs non-US Cross Analysis\n",
    "\n",
    "The dataset contains both the US and non-US movies. Let's analyse how both the US and the non-US voters have responded to the US and the non-US movies.\n",
    "\n",
    "1. Create a column `IFUS` in the dataframe `movies`. The column `IFUS` should contain the value \"USA\" if the `Country` of the movie is \"USA\". For all other countries other than the USA, `IFUS` should contain the value `non-USA`.\n",
    "\n",
    "\n",
    "2. Now make a boxplot that shows how the number of votes from the US people i.e. `CVotesUS` is varying for the US and non-US movies. Make use of the column `IFUS` to make this plot. Similarly, make another subplot that shows how non US voters have voted for the US and non-US movies by plotting `CVotesnUS` for both the US and non-US movies. Write any of your two inferences/observations from these plots.\n",
    "\n",
    "\n",
    "3. Again do a similar analysis but with the ratings. Make a boxplot that shows how the ratings from the US people i.e. `VotesUS` is varying for the US and non-US movies. Similarly, make another subplot that shows how `VotesnUS` is varying for the US and non-US movies. Write any of your two inferences/observations from these plots.\n",
    "\n",
    "Note : Use `movies` dataframe for this subtask. Make use of this documention to format your boxplot - https://seaborn.pydata.org/generated/seaborn.boxplot.html"
   ]
  },
  {
   "cell_type": "code",
   "execution_count": 44,
   "metadata": {
    "id": "1GxW01CwV6kF"
   },
   "outputs": [],
   "source": [
    "# Creating IFUS column\n",
    "\n",
    "movies['IFUS'] = movies['Country'].apply(lambda x: 'USA' if x == 'USA' else 'non-USA')"
   ]
  },
  {
   "cell_type": "code",
   "execution_count": 45,
   "metadata": {
    "id": "8VTyUnMhV6kF"
   },
   "outputs": [
    {
     "data": {
      "text/plain": [
       "<Axes: xlabel='IFUS', ylabel='CVotesUS'>"
      ]
     },
     "execution_count": 45,
     "metadata": {},
     "output_type": "execute_result"
    },
    {
     "data": {
      "image/png": "[encoded data removed]",
      "text/plain": [
       "<Figure size 1200x800 with 1 Axes>"
      ]
     },
     "metadata": {},
     "output_type": "display_data"
    }
   ],
   "source": [
    "# Box plot - 1: CVotesUS(y) vs IFUS(x)\n",
    "\n",
    "plt.figure(figsize=(12, 8))\n",
    "plt.subplot(1, 2, 1)\n",
    "sns.boxplot(x='IFUS', y='CVotesUS', data=movies)\n"
   ]
  },
  {
   "cell_type": "markdown",
   "metadata": {
    "id": "hbApKO6NV6kF"
   },
   "source": [
    "**`Inferences:`** Write your two inferences/observations below:\n",
    "- Inference 1:\n",
    "- Inference 2:"
   ]
  },
  {
   "cell_type": "code",
   "execution_count": 46,
   "metadata": {
    "id": "1rN47ZG4V6kG"
   },
   "outputs": [
    {
     "data": {
      "image/png": "[encoded data removed]",
      "text/plain": [
       "<Figure size 640x480 with 1 Axes>"
      ]
     },
     "metadata": {},
     "output_type": "display_data"
    }
   ],
   "source": [
    "# Box plot - 2: VotesUS(y) vs IFUS(x)\n",
    "\n",
    "plt.subplot(1, 2, 2)\n",
    "sns.boxplot(x='IFUS', y='VotesUS', data=movies)\n",
    "\n",
    "plt.show()"
   ]
  },
  {
   "cell_type": "markdown",
   "metadata": {
    "id": "aGbPNgCMV6kG"
   },
   "source": [
    "**`Inferences:`** Write your two inferences/observations below:\n",
    "- Inference 1:\n",
    "- Inference 2:"
   ]
  },
  {
   "cell_type": "markdown",
   "metadata": {
    "id": "CnnHxu0uV6kG"
   },
   "source": [
    "-  ###  Subtask 3.5:  Top 1000 Voters Vs Genres\n",
    "\n",
    "You might have also observed the column `CVotes1000`. This column represents the top 1000 voters on IMDb and gives the count for the number of these voters who have voted for a particular movie. Let's see how these top 1000 voters have voted across the genres.\n",
    "\n",
    "1. Sort the dataframe genre_top10 based on the value of `CVotes1000`in a descending order.\n",
    "\n",
    "2. Make a seaborn barplot for `genre` vs `CVotes1000`.\n",
    "\n",
    "3. Write your inferences. You can also try to relate it with the heatmaps you did in the previous subtasks.\n",
    "\n",
    "\n"
   ]
  },
  {
   "cell_type": "code",
   "execution_count": 47,
   "metadata": {
    "id": "JbAMn5I2V6kG"
   },
   "outputs": [],
   "source": [
    "# Sorting by CVotes1000\n",
    "genre_top10_CVotes1000 = genre_top10.sort_values(by='CVotes1000', ascending=False)\n",
    "\n",
    "\n"
   ]
  },
  {
   "cell_type": "code",
   "execution_count": 48,
   "metadata": {
    "id": "50Swx0qAV6kH"
   },
   "outputs": [
    {
     "data": {
      "image/png": "[encoded data removed]",
      "text/plain": [
       "<Figure size 1200x600 with 1 Axes>"
      ]
     },
     "metadata": {},
     "output_type": "display_data"
    }
   ],
   "source": [
    "# Bar plot\n",
    "plt.figure(figsize=(12, 6))\n",
    "sns.barplot(x=genre_top10_CVotes1000.index, y=genre_top10_CVotes1000['CVotes1000'])\n",
    "plt.title('Genre vs CVotes1000')\n",
    "plt.xlabel('Genres')\n",
    "plt.ylabel('CVotes1000')\n",
    "plt.show()\n"
   ]
  },
  {
   "cell_type": "markdown",
   "metadata": {
    "id": "zMzFsW8LV6kH"
   },
   "source": [
    "**`Inferences:`** Write your inferences/observations here."
   ]
  },
  {
   "cell_type": "markdown",
   "metadata": {
    "id": "desZ97SUV6kI"
   },
   "source": [
    "**`Checkpoint 6:`** The genre `Romance` seems to be most unpopular among the top 1000 voters."
   ]
  },
  {
   "cell_type": "markdown",
   "metadata": {
    "id": "dQXKYnOCV6kJ"
   },
   "source": [
    "\n",
    "\n"
   ]
  },
  {
   "cell_type": "markdown",
   "metadata": {
    "id": "Ed_QlB0RV6kJ"
   },
   "source": [
    "With the above subtask, your assignment is over. In your free time, do explore the dataset further on your own and see what kind of other insights you can get across various other columns."
   ]
  }
 ],
 "metadata": {
  "colab": {
   "provenance": []
  },
  "kernelspec": {
   "display_name": "Python 3 (ipykernel)",
   "language": "python",
   "name": "python3"
  },
  "language_info": {
   "codemirror_mode": {
    "name": "ipython",
    "version": 3
   },
   "file_extension": ".py",
   "mimetype": "text/x-python",
   "name": "python",
   "nbconvert_exporter": "python",
   "pygments_lexer": "ipython3",
   "version": "3.11.4"
  }
 },
 "nbformat": 4,
 "nbformat_minor": 1
}
